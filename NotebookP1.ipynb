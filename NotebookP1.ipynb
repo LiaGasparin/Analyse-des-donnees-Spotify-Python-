{
 "cells": [
  {
   "cell_type": "markdown",
   "id": "e4f7c51c",
   "metadata": {},
   "source": [
    "# 01 - Import Librairies"
   ]
  },
  {
   "cell_type": "code",
   "execution_count": 1,
   "id": "5bbc31fe",
   "metadata": {},
   "outputs": [],
   "source": [
    "import os"
   ]
  },
  {
   "cell_type": "code",
   "execution_count": 2,
   "id": "83a58a96",
   "metadata": {},
   "outputs": [
    {
     "name": "stdout",
     "output_type": "stream",
     "text": [
      "C:\\Users\\maeva\\OneDrive\\Documents\\Sujet1_Nguessan_Gasparin_Dutauziet_Asse\\Partie_1\n"
     ]
    }
   ],
   "source": [
    "print(os.getcwd())"
   ]
  },
  {
   "cell_type": "code",
   "execution_count": 3,
   "id": "b243b9fa",
   "metadata": {},
   "outputs": [],
   "source": [
    "current_path = os.getcwd()"
   ]
  },
  {
   "cell_type": "code",
   "execution_count": 4,
   "id": "7ecb1126",
   "metadata": {},
   "outputs": [
    {
     "data": {
      "text/plain": [
       "'C:\\\\Users\\\\maeva\\\\OneDrive\\\\Documents\\\\Sujet1_Nguessan_Gasparin_Dutauziet_Asse'"
      ]
     },
     "execution_count": 4,
     "metadata": {},
     "output_type": "execute_result"
    }
   ],
   "source": [
    "path = os.path.abspath(os.path.join(current_path, '..'))\n",
    "path"
   ]
  },
  {
   "cell_type": "code",
   "execution_count": 5,
   "id": "6dfe2d18",
   "metadata": {},
   "outputs": [
    {
     "name": "stdout",
     "output_type": "stream",
     "text": [
      "C:\\Users\\maeva\\OneDrive\\Documents\\Sujet1_Nguessan_Gasparin_Dutauziet_Asse\\data\n"
     ]
    }
   ],
   "source": [
    "path_data = os.path.join(path, 'data')\n",
    "os.chdir(path_data)\n",
    "print(os.getcwd())"
   ]
  },
  {
   "cell_type": "code",
   "execution_count": 6,
   "id": "1c5ef1dd",
   "metadata": {},
   "outputs": [],
   "source": [
    "import pandas as pd\n",
    "import numpy as np\n",
    "import seaborn as sns \n",
    "from matplotlib import pyplot as plt\n",
    "from datetime import datetime\n",
    "import matplotlib.cm as cm #matplotlib.cm sert a mettre des couleurs plus jolies dans les graphs\n",
    "from colorama import init, Fore, Back, Style\n",
    "from modP1 import *"
   ]
  },
  {
   "cell_type": "markdown",
   "id": "a1613b0f",
   "metadata": {},
   "source": [
    "# 02 - Load Dataset"
   ]
  },
  {
   "cell_type": "code",
   "execution_count": 7,
   "id": "596baadd",
   "metadata": {
    "scrolled": true
   },
   "outputs": [
    {
     "data": {
      "text/html": [
       "<div>\n",
       "<style scoped>\n",
       "    .dataframe tbody tr th:only-of-type {\n",
       "        vertical-align: middle;\n",
       "    }\n",
       "\n",
       "    .dataframe tbody tr th {\n",
       "        vertical-align: top;\n",
       "    }\n",
       "\n",
       "    .dataframe thead th {\n",
       "        text-align: right;\n",
       "    }\n",
       "</style>\n",
       "<table border=\"1\" class=\"dataframe\">\n",
       "  <thead>\n",
       "    <tr style=\"text-align: right;\">\n",
       "      <th></th>\n",
       "      <th>id</th>\n",
       "      <th>followers</th>\n",
       "      <th>genres</th>\n",
       "      <th>name</th>\n",
       "      <th>popularity</th>\n",
       "    </tr>\n",
       "  </thead>\n",
       "  <tbody>\n",
       "    <tr>\n",
       "      <th>0</th>\n",
       "      <td>0DheY5irMjBUeLybbCUEZ2</td>\n",
       "      <td>0.0</td>\n",
       "      <td>[]</td>\n",
       "      <td>Armid &amp; Amir Zare Pashai feat. Sara Rouzbehani</td>\n",
       "      <td>0</td>\n",
       "    </tr>\n",
       "    <tr>\n",
       "      <th>1</th>\n",
       "      <td>0DlhY15l3wsrnlfGio2bjU</td>\n",
       "      <td>5.0</td>\n",
       "      <td>[]</td>\n",
       "      <td>ปูนา ภาวิณี</td>\n",
       "      <td>0</td>\n",
       "    </tr>\n",
       "    <tr>\n",
       "      <th>2</th>\n",
       "      <td>0DmRESX2JknGPQyO15yxg7</td>\n",
       "      <td>0.0</td>\n",
       "      <td>[]</td>\n",
       "      <td>Sadaa</td>\n",
       "      <td>0</td>\n",
       "    </tr>\n",
       "    <tr>\n",
       "      <th>3</th>\n",
       "      <td>0DmhnbHjm1qw6NCYPeZNgJ</td>\n",
       "      <td>0.0</td>\n",
       "      <td>[]</td>\n",
       "      <td>Tra'gruda</td>\n",
       "      <td>0</td>\n",
       "    </tr>\n",
       "    <tr>\n",
       "      <th>4</th>\n",
       "      <td>0Dn11fWM7vHQ3rinvWEl4E</td>\n",
       "      <td>2.0</td>\n",
       "      <td>[]</td>\n",
       "      <td>Ioannis Panoutsopoulos</td>\n",
       "      <td>0</td>\n",
       "    </tr>\n",
       "  </tbody>\n",
       "</table>\n",
       "</div>"
      ],
      "text/plain": [
       "                       id  followers genres  \\\n",
       "0  0DheY5irMjBUeLybbCUEZ2        0.0     []   \n",
       "1  0DlhY15l3wsrnlfGio2bjU        5.0     []   \n",
       "2  0DmRESX2JknGPQyO15yxg7        0.0     []   \n",
       "3  0DmhnbHjm1qw6NCYPeZNgJ        0.0     []   \n",
       "4  0Dn11fWM7vHQ3rinvWEl4E        2.0     []   \n",
       "\n",
       "                                             name  popularity  \n",
       "0  Armid & Amir Zare Pashai feat. Sara Rouzbehani           0  \n",
       "1                                     ปูนา ภาวิณี           0  \n",
       "2                                           Sadaa           0  \n",
       "3                                       Tra'gruda           0  \n",
       "4                          Ioannis Panoutsopoulos           0  "
      ]
     },
     "execution_count": 7,
     "metadata": {},
     "output_type": "execute_result"
    }
   ],
   "source": [
    "df_art=pd.read_csv(\"artists.csv\",encoding=\"utf-8\")\n",
    "df_art.head()"
   ]
  },
  {
   "cell_type": "code",
   "execution_count": 7,
   "id": "4636ae25",
   "metadata": {
    "scrolled": true
   },
   "outputs": [
    {
     "data": {
      "text/html": [
       "<div>\n",
       "<style scoped>\n",
       "    .dataframe tbody tr th:only-of-type {\n",
       "        vertical-align: middle;\n",
       "    }\n",
       "\n",
       "    .dataframe tbody tr th {\n",
       "        vertical-align: top;\n",
       "    }\n",
       "\n",
       "    .dataframe thead th {\n",
       "        text-align: right;\n",
       "    }\n",
       "</style>\n",
       "<table border=\"1\" class=\"dataframe\">\n",
       "  <thead>\n",
       "    <tr style=\"text-align: right;\">\n",
       "      <th></th>\n",
       "      <th>id</th>\n",
       "      <th>name</th>\n",
       "      <th>popularity</th>\n",
       "      <th>duration_ms</th>\n",
       "      <th>explicit</th>\n",
       "      <th>artists</th>\n",
       "      <th>id_artists</th>\n",
       "      <th>release_date</th>\n",
       "      <th>danceability</th>\n",
       "      <th>energy</th>\n",
       "      <th>key</th>\n",
       "      <th>loudness</th>\n",
       "      <th>mode</th>\n",
       "      <th>speechiness</th>\n",
       "      <th>acousticness</th>\n",
       "      <th>instrumentalness</th>\n",
       "      <th>liveness</th>\n",
       "      <th>valence</th>\n",
       "      <th>tempo</th>\n",
       "      <th>time_signature</th>\n",
       "    </tr>\n",
       "  </thead>\n",
       "  <tbody>\n",
       "    <tr>\n",
       "      <th>0</th>\n",
       "      <td>35iwgR4jXetI318WEWsa1Q</td>\n",
       "      <td>Carve</td>\n",
       "      <td>6</td>\n",
       "      <td>126903</td>\n",
       "      <td>0</td>\n",
       "      <td>['Uli']</td>\n",
       "      <td>['45tIt06XoI0Iio4LBEVpls']</td>\n",
       "      <td>1922-02-22</td>\n",
       "      <td>0.645</td>\n",
       "      <td>0.4450</td>\n",
       "      <td>0</td>\n",
       "      <td>-13.338</td>\n",
       "      <td>1</td>\n",
       "      <td>0.4510</td>\n",
       "      <td>0.674</td>\n",
       "      <td>0.7440</td>\n",
       "      <td>0.151</td>\n",
       "      <td>0.127</td>\n",
       "      <td>104.851</td>\n",
       "      <td>3</td>\n",
       "    </tr>\n",
       "    <tr>\n",
       "      <th>1</th>\n",
       "      <td>021ht4sdgPcrDgSk7JTbKY</td>\n",
       "      <td>Capítulo 2.16 - Banquero Anarquista</td>\n",
       "      <td>0</td>\n",
       "      <td>98200</td>\n",
       "      <td>0</td>\n",
       "      <td>['Fernando Pessoa']</td>\n",
       "      <td>['14jtPCOoNZwquk5wd9DxrY']</td>\n",
       "      <td>1922-06-01</td>\n",
       "      <td>0.695</td>\n",
       "      <td>0.2630</td>\n",
       "      <td>0</td>\n",
       "      <td>-22.136</td>\n",
       "      <td>1</td>\n",
       "      <td>0.9570</td>\n",
       "      <td>0.797</td>\n",
       "      <td>0.0000</td>\n",
       "      <td>0.148</td>\n",
       "      <td>0.655</td>\n",
       "      <td>102.009</td>\n",
       "      <td>1</td>\n",
       "    </tr>\n",
       "    <tr>\n",
       "      <th>2</th>\n",
       "      <td>07A5yehtSnoedViJAZkNnc</td>\n",
       "      <td>Vivo para Quererte - Remasterizado</td>\n",
       "      <td>0</td>\n",
       "      <td>181640</td>\n",
       "      <td>0</td>\n",
       "      <td>['Ignacio Corsini']</td>\n",
       "      <td>['5LiOoJbxVSAMkBS2fUm3X2']</td>\n",
       "      <td>1922-03-21</td>\n",
       "      <td>0.434</td>\n",
       "      <td>0.1770</td>\n",
       "      <td>1</td>\n",
       "      <td>-21.180</td>\n",
       "      <td>1</td>\n",
       "      <td>0.0512</td>\n",
       "      <td>0.994</td>\n",
       "      <td>0.0218</td>\n",
       "      <td>0.212</td>\n",
       "      <td>0.457</td>\n",
       "      <td>130.418</td>\n",
       "      <td>5</td>\n",
       "    </tr>\n",
       "    <tr>\n",
       "      <th>3</th>\n",
       "      <td>08FmqUhxtyLTn6pAh6bk45</td>\n",
       "      <td>El Prisionero - Remasterizado</td>\n",
       "      <td>0</td>\n",
       "      <td>176907</td>\n",
       "      <td>0</td>\n",
       "      <td>['Ignacio Corsini']</td>\n",
       "      <td>['5LiOoJbxVSAMkBS2fUm3X2']</td>\n",
       "      <td>1922-03-21</td>\n",
       "      <td>0.321</td>\n",
       "      <td>0.0946</td>\n",
       "      <td>7</td>\n",
       "      <td>-27.961</td>\n",
       "      <td>1</td>\n",
       "      <td>0.0504</td>\n",
       "      <td>0.995</td>\n",
       "      <td>0.9180</td>\n",
       "      <td>0.104</td>\n",
       "      <td>0.397</td>\n",
       "      <td>169.980</td>\n",
       "      <td>3</td>\n",
       "    </tr>\n",
       "    <tr>\n",
       "      <th>4</th>\n",
       "      <td>08y9GfoqCWfOGsKdwojr5e</td>\n",
       "      <td>Lady of the Evening</td>\n",
       "      <td>0</td>\n",
       "      <td>163080</td>\n",
       "      <td>0</td>\n",
       "      <td>['Dick Haymes']</td>\n",
       "      <td>['3BiJGZsyX9sJchTqcSA7Su']</td>\n",
       "      <td>1922</td>\n",
       "      <td>0.402</td>\n",
       "      <td>0.1580</td>\n",
       "      <td>3</td>\n",
       "      <td>-16.900</td>\n",
       "      <td>0</td>\n",
       "      <td>0.0390</td>\n",
       "      <td>0.989</td>\n",
       "      <td>0.1300</td>\n",
       "      <td>0.311</td>\n",
       "      <td>0.196</td>\n",
       "      <td>103.220</td>\n",
       "      <td>4</td>\n",
       "    </tr>\n",
       "  </tbody>\n",
       "</table>\n",
       "</div>"
      ],
      "text/plain": [
       "                       id                                 name  popularity  \\\n",
       "0  35iwgR4jXetI318WEWsa1Q                                Carve           6   \n",
       "1  021ht4sdgPcrDgSk7JTbKY  Capítulo 2.16 - Banquero Anarquista           0   \n",
       "2  07A5yehtSnoedViJAZkNnc   Vivo para Quererte - Remasterizado           0   \n",
       "3  08FmqUhxtyLTn6pAh6bk45        El Prisionero - Remasterizado           0   \n",
       "4  08y9GfoqCWfOGsKdwojr5e                  Lady of the Evening           0   \n",
       "\n",
       "   duration_ms  explicit              artists                  id_artists  \\\n",
       "0       126903         0              ['Uli']  ['45tIt06XoI0Iio4LBEVpls']   \n",
       "1        98200         0  ['Fernando Pessoa']  ['14jtPCOoNZwquk5wd9DxrY']   \n",
       "2       181640         0  ['Ignacio Corsini']  ['5LiOoJbxVSAMkBS2fUm3X2']   \n",
       "3       176907         0  ['Ignacio Corsini']  ['5LiOoJbxVSAMkBS2fUm3X2']   \n",
       "4       163080         0      ['Dick Haymes']  ['3BiJGZsyX9sJchTqcSA7Su']   \n",
       "\n",
       "  release_date  danceability  energy  key  loudness  mode  speechiness  \\\n",
       "0   1922-02-22         0.645  0.4450    0   -13.338     1       0.4510   \n",
       "1   1922-06-01         0.695  0.2630    0   -22.136     1       0.9570   \n",
       "2   1922-03-21         0.434  0.1770    1   -21.180     1       0.0512   \n",
       "3   1922-03-21         0.321  0.0946    7   -27.961     1       0.0504   \n",
       "4         1922         0.402  0.1580    3   -16.900     0       0.0390   \n",
       "\n",
       "   acousticness  instrumentalness  liveness  valence    tempo  time_signature  \n",
       "0         0.674            0.7440     0.151    0.127  104.851               3  \n",
       "1         0.797            0.0000     0.148    0.655  102.009               1  \n",
       "2         0.994            0.0218     0.212    0.457  130.418               5  \n",
       "3         0.995            0.9180     0.104    0.397  169.980               3  \n",
       "4         0.989            0.1300     0.311    0.196  103.220               4  "
      ]
     },
     "execution_count": 7,
     "metadata": {},
     "output_type": "execute_result"
    }
   ],
   "source": [
    "df_track=pd.read_csv(\"tracks.csv\",encoding=\"utf-8\")\n",
    "df_track.head()"
   ]
  },
  {
   "cell_type": "code",
   "execution_count": 8,
   "id": "5d52af99",
   "metadata": {},
   "outputs": [
    {
     "data": {
      "text/html": [
       "<div>\n",
       "<style scoped>\n",
       "    .dataframe tbody tr th:only-of-type {\n",
       "        vertical-align: middle;\n",
       "    }\n",
       "\n",
       "    .dataframe tbody tr th {\n",
       "        vertical-align: top;\n",
       "    }\n",
       "\n",
       "    .dataframe thead th {\n",
       "        text-align: right;\n",
       "    }\n",
       "</style>\n",
       "<table border=\"1\" class=\"dataframe\">\n",
       "  <thead>\n",
       "    <tr style=\"text-align: right;\">\n",
       "      <th></th>\n",
       "      <th>Artist</th>\n",
       "      <th>Country</th>\n",
       "      <th>Date</th>\n",
       "      <th>Rank</th>\n",
       "      <th>Streams</th>\n",
       "      <th>Title</th>\n",
       "    </tr>\n",
       "  </thead>\n",
       "  <tbody>\n",
       "    <tr>\n",
       "      <th>0</th>\n",
       "      <td>Tones And I</td>\n",
       "      <td>Global</td>\n",
       "      <td>2020-01-01</td>\n",
       "      <td>1</td>\n",
       "      <td>6155025</td>\n",
       "      <td>Dance Monkey</td>\n",
       "    </tr>\n",
       "    <tr>\n",
       "      <th>1</th>\n",
       "      <td>Arizona Zervas</td>\n",
       "      <td>Global</td>\n",
       "      <td>2020-01-01</td>\n",
       "      <td>2</td>\n",
       "      <td>4133489</td>\n",
       "      <td>ROXANNE</td>\n",
       "    </tr>\n",
       "    <tr>\n",
       "      <th>2</th>\n",
       "      <td>KAROL G, Nicki Minaj</td>\n",
       "      <td>Global</td>\n",
       "      <td>2020-01-01</td>\n",
       "      <td>3</td>\n",
       "      <td>4017964</td>\n",
       "      <td>Tusa</td>\n",
       "    </tr>\n",
       "    <tr>\n",
       "      <th>3</th>\n",
       "      <td>Post Malone</td>\n",
       "      <td>Global</td>\n",
       "      <td>2020-01-01</td>\n",
       "      <td>4</td>\n",
       "      <td>3283180</td>\n",
       "      <td>Circles</td>\n",
       "    </tr>\n",
       "    <tr>\n",
       "      <th>4</th>\n",
       "      <td>Maroon 5</td>\n",
       "      <td>Global</td>\n",
       "      <td>2020-01-01</td>\n",
       "      <td>5</td>\n",
       "      <td>3127585</td>\n",
       "      <td>Memories</td>\n",
       "    </tr>\n",
       "  </tbody>\n",
       "</table>\n",
       "</div>"
      ],
      "text/plain": [
       "                 Artist Country        Date  Rank  Streams         Title\n",
       "0           Tones And I  Global  2020-01-01     1  6155025  Dance Monkey\n",
       "1        Arizona Zervas  Global  2020-01-01     2  4133489       ROXANNE\n",
       "2  KAROL G, Nicki Minaj  Global  2020-01-01     3  4017964          Tusa\n",
       "3           Post Malone  Global  2020-01-01     4  3283180       Circles\n",
       "4              Maroon 5  Global  2020-01-01     5  3127585      Memories"
      ]
     },
     "execution_count": 8,
     "metadata": {},
     "output_type": "execute_result"
    }
   ],
   "source": [
    "df_top200 = pd.read_csv(\"spotify_top200_global.csv\",encoding=\"utf-8\")\n",
    "df_top200.head()"
   ]
  },
  {
   "cell_type": "markdown",
   "id": "b59b8ab5",
   "metadata": {},
   "source": [
    "On a donc 3 dataframes:\n",
    "- df_art : informations sur les artistes\n",
    "- df_track : Informations des chansons présentes sur Spotify ( 1921-2020)\n",
    "- df_top200 : les titres qui font partie du top200 mondial de l'année 2020"
   ]
  },
  {
   "cell_type": "markdown",
   "id": "2b5c887b",
   "metadata": {},
   "source": [
    "# 03 - Preprocessing and description  "
   ]
  },
  {
   "cell_type": "markdown",
   "id": "60f4f31f",
   "metadata": {},
   "source": [
    "Avant de procéder à l'analyse de données, nous allons analyser les dataframes pour voir les éventuelles valeurs manquantes, en savoir plus sur nos dataframes et faire du nettoyage de données."
   ]
  },
  {
   "cell_type": "markdown",
   "id": "7bbeea58",
   "metadata": {},
   "source": [
    "### **Dataframe : df_art**"
   ]
  },
  {
   "cell_type": "markdown",
   "id": "c7a28d52",
   "metadata": {},
   "source": [
    "Ecrire une fonction permettant de faire l'info, le isnull et le describe pour chaque variable -> permet d'eviter la repetition "
   ]
  },
  {
   "cell_type": "code",
   "execution_count": 36,
   "id": "7c5988c5",
   "metadata": {
    "scrolled": true
   },
   "outputs": [
    {
     "name": "stdout",
     "output_type": "stream",
     "text": [
      "Informations générales sur le DataFrame:\n",
      "<class 'pandas.core.frame.DataFrame'>\n",
      "RangeIndex: 1162095 entries, 0 to 1162094\n",
      "Data columns (total 5 columns):\n",
      " #   Column      Non-Null Count    Dtype  \n",
      "---  ------      --------------    -----  \n",
      " 0   id          1162095 non-null  object \n",
      " 1   followers   1162084 non-null  float64\n",
      " 2   genres      1162095 non-null  object \n",
      " 3   name        1162095 non-null  object \n",
      " 4   popularity  1162095 non-null  int64  \n",
      "dtypes: float64(1), int64(1), object(3)\n",
      "memory usage: 44.3+ MB\n"
     ]
    },
    {
     "data": {
      "text/plain": [
       "None"
      ]
     },
     "metadata": {},
     "output_type": "display_data"
    },
    {
     "name": "stdout",
     "output_type": "stream",
     "text": [
      "\n",
      "\n",
      "Valeurs manquantes dans le DataFrame:\n"
     ]
    },
    {
     "data": {
      "text/plain": [
       "id             0\n",
       "followers     11\n",
       "genres         0\n",
       "name           0\n",
       "popularity     0\n",
       "dtype: int64"
      ]
     },
     "metadata": {},
     "output_type": "display_data"
    },
    {
     "name": "stdout",
     "output_type": "stream",
     "text": [
      "\n",
      "\n",
      "Statistiques descriptives du DataFrame:\n"
     ]
    },
    {
     "data": {
      "text/html": [
       "<div>\n",
       "<style scoped>\n",
       "    .dataframe tbody tr th:only-of-type {\n",
       "        vertical-align: middle;\n",
       "    }\n",
       "\n",
       "    .dataframe tbody tr th {\n",
       "        vertical-align: top;\n",
       "    }\n",
       "\n",
       "    .dataframe thead th {\n",
       "        text-align: right;\n",
       "    }\n",
       "</style>\n",
       "<table border=\"1\" class=\"dataframe\">\n",
       "  <thead>\n",
       "    <tr style=\"text-align: right;\">\n",
       "      <th></th>\n",
       "      <th>followers</th>\n",
       "      <th>popularity</th>\n",
       "    </tr>\n",
       "  </thead>\n",
       "  <tbody>\n",
       "    <tr>\n",
       "      <th>count</th>\n",
       "      <td>1.162084e+06</td>\n",
       "      <td>1.162095e+06</td>\n",
       "    </tr>\n",
       "    <tr>\n",
       "      <th>mean</th>\n",
       "      <td>1.022070e+04</td>\n",
       "      <td>8.795961e+00</td>\n",
       "    </tr>\n",
       "    <tr>\n",
       "      <th>std</th>\n",
       "      <td>2.543995e+05</td>\n",
       "      <td>1.355777e+01</td>\n",
       "    </tr>\n",
       "    <tr>\n",
       "      <th>min</th>\n",
       "      <td>0.000000e+00</td>\n",
       "      <td>0.000000e+00</td>\n",
       "    </tr>\n",
       "    <tr>\n",
       "      <th>25%</th>\n",
       "      <td>1.000000e+01</td>\n",
       "      <td>0.000000e+00</td>\n",
       "    </tr>\n",
       "    <tr>\n",
       "      <th>50%</th>\n",
       "      <td>5.700000e+01</td>\n",
       "      <td>2.000000e+00</td>\n",
       "    </tr>\n",
       "    <tr>\n",
       "      <th>75%</th>\n",
       "      <td>4.170000e+02</td>\n",
       "      <td>1.300000e+01</td>\n",
       "    </tr>\n",
       "    <tr>\n",
       "      <th>max</th>\n",
       "      <td>7.890023e+07</td>\n",
       "      <td>1.000000e+02</td>\n",
       "    </tr>\n",
       "  </tbody>\n",
       "</table>\n",
       "</div>"
      ],
      "text/plain": [
       "          followers    popularity\n",
       "count  1.162084e+06  1.162095e+06\n",
       "mean   1.022070e+04  8.795961e+00\n",
       "std    2.543995e+05  1.355777e+01\n",
       "min    0.000000e+00  0.000000e+00\n",
       "25%    1.000000e+01  0.000000e+00\n",
       "50%    5.700000e+01  2.000000e+00\n",
       "75%    4.170000e+02  1.300000e+01\n",
       "max    7.890023e+07  1.000000e+02"
      ]
     },
     "metadata": {},
     "output_type": "display_data"
    }
   ],
   "source": [
    "data_summary(df_art)"
   ]
  },
  {
   "cell_type": "markdown",
   "id": "e2ae55bf",
   "metadata": {},
   "source": [
    "#### **Description pour le dataframe df_art**  \n",
    "\n",
    "nombre d'observation : 1 162 095\n",
    "\n",
    "nombre de variable : 5\n",
    "\n",
    "type de variable : Object, float et integer\n",
    "\n",
    "variables manquantes : On a 11 valeurs manquantes pour la colonne followers."
   ]
  },
  {
   "cell_type": "markdown",
   "id": "229ffb81",
   "metadata": {},
   "source": [
    "### **Dataframe : df_top200**"
   ]
  },
  {
   "cell_type": "code",
   "execution_count": 11,
   "id": "552cedd5",
   "metadata": {
    "scrolled": true
   },
   "outputs": [
    {
     "name": "stdout",
     "output_type": "stream",
     "text": [
      "Informations générales sur le DataFrame:\n",
      "<class 'pandas.core.frame.DataFrame'>\n",
      "RangeIndex: 73200 entries, 0 to 73199\n",
      "Data columns (total 6 columns):\n",
      " #   Column   Non-Null Count  Dtype \n",
      "---  ------   --------------  ----- \n",
      " 0   Artist   73200 non-null  object\n",
      " 1   Country  73200 non-null  object\n",
      " 2   Date     73200 non-null  object\n",
      " 3   Rank     73200 non-null  int64 \n",
      " 4   Streams  73200 non-null  int64 \n",
      " 5   Title    73200 non-null  object\n",
      "dtypes: int64(2), object(4)\n",
      "memory usage: 3.4+ MB\n"
     ]
    },
    {
     "data": {
      "text/plain": [
       "None"
      ]
     },
     "metadata": {},
     "output_type": "display_data"
    },
    {
     "name": "stdout",
     "output_type": "stream",
     "text": [
      "\n",
      "\n",
      "Valeurs manquantes dans le DataFrame:\n"
     ]
    },
    {
     "data": {
      "text/plain": [
       "Artist     0\n",
       "Country    0\n",
       "Date       0\n",
       "Rank       0\n",
       "Streams    0\n",
       "Title      0\n",
       "dtype: int64"
      ]
     },
     "metadata": {},
     "output_type": "display_data"
    },
    {
     "name": "stdout",
     "output_type": "stream",
     "text": [
      "\n",
      "\n",
      "Statistiques descriptives du DataFrame:\n"
     ]
    },
    {
     "data": {
      "text/html": [
       "<div>\n",
       "<style scoped>\n",
       "    .dataframe tbody tr th:only-of-type {\n",
       "        vertical-align: middle;\n",
       "    }\n",
       "\n",
       "    .dataframe tbody tr th {\n",
       "        vertical-align: top;\n",
       "    }\n",
       "\n",
       "    .dataframe thead th {\n",
       "        text-align: right;\n",
       "    }\n",
       "</style>\n",
       "<table border=\"1\" class=\"dataframe\">\n",
       "  <thead>\n",
       "    <tr style=\"text-align: right;\">\n",
       "      <th></th>\n",
       "      <th>Rank</th>\n",
       "      <th>Streams</th>\n",
       "    </tr>\n",
       "  </thead>\n",
       "  <tbody>\n",
       "    <tr>\n",
       "      <th>count</th>\n",
       "      <td>73200.0000</td>\n",
       "      <td>7.320000e+04</td>\n",
       "    </tr>\n",
       "    <tr>\n",
       "      <th>mean</th>\n",
       "      <td>100.5000</td>\n",
       "      <td>1.300491e+06</td>\n",
       "    </tr>\n",
       "    <tr>\n",
       "      <th>std</th>\n",
       "      <td>57.7347</td>\n",
       "      <td>8.900651e+05</td>\n",
       "    </tr>\n",
       "    <tr>\n",
       "      <th>min</th>\n",
       "      <td>1.0000</td>\n",
       "      <td>5.578390e+05</td>\n",
       "    </tr>\n",
       "    <tr>\n",
       "      <th>25%</th>\n",
       "      <td>50.7500</td>\n",
       "      <td>7.678645e+05</td>\n",
       "    </tr>\n",
       "    <tr>\n",
       "      <th>50%</th>\n",
       "      <td>100.5000</td>\n",
       "      <td>9.755045e+05</td>\n",
       "    </tr>\n",
       "    <tr>\n",
       "      <th>75%</th>\n",
       "      <td>150.2500</td>\n",
       "      <td>1.486872e+06</td>\n",
       "    </tr>\n",
       "    <tr>\n",
       "      <th>max</th>\n",
       "      <td>200.0000</td>\n",
       "      <td>1.722324e+07</td>\n",
       "    </tr>\n",
       "  </tbody>\n",
       "</table>\n",
       "</div>"
      ],
      "text/plain": [
       "             Rank       Streams\n",
       "count  73200.0000  7.320000e+04\n",
       "mean     100.5000  1.300491e+06\n",
       "std       57.7347  8.900651e+05\n",
       "min        1.0000  5.578390e+05\n",
       "25%       50.7500  7.678645e+05\n",
       "50%      100.5000  9.755045e+05\n",
       "75%      150.2500  1.486872e+06\n",
       "max      200.0000  1.722324e+07"
      ]
     },
     "metadata": {},
     "output_type": "display_data"
    }
   ],
   "source": [
    "data_summary(df_top200)"
   ]
  },
  {
   "cell_type": "markdown",
   "id": "c1e56979",
   "metadata": {},
   "source": [
    "\n",
    "**Description pour le dataframe df_top200** \n",
    "\n",
    "nombre d'observation : 73 200\n",
    "\n",
    "nombre de variable : 6\n",
    "\n",
    "type de variable : object et integer\n",
    "\n",
    "valeurs manquantes : Aucune "
   ]
  },
  {
   "cell_type": "markdown",
   "id": "cd264d6b",
   "metadata": {},
   "source": [
    "\n",
    "### **Dataframe : df_track**"
   ]
  },
  {
   "cell_type": "code",
   "execution_count": 12,
   "id": "32e75a1d",
   "metadata": {
    "scrolled": true
   },
   "outputs": [
    {
     "name": "stdout",
     "output_type": "stream",
     "text": [
      "Informations générales sur le DataFrame:\n",
      "<class 'pandas.core.frame.DataFrame'>\n",
      "RangeIndex: 586672 entries, 0 to 586671\n",
      "Data columns (total 20 columns):\n",
      " #   Column            Non-Null Count   Dtype  \n",
      "---  ------            --------------   -----  \n",
      " 0   id                586672 non-null  object \n",
      " 1   name              586601 non-null  object \n",
      " 2   popularity        586672 non-null  int64  \n",
      " 3   duration_ms       586672 non-null  int64  \n",
      " 4   explicit          586672 non-null  int64  \n",
      " 5   artists           586672 non-null  object \n",
      " 6   id_artists        586672 non-null  object \n",
      " 7   release_date      586672 non-null  object \n",
      " 8   danceability      586672 non-null  float64\n",
      " 9   energy            586672 non-null  float64\n",
      " 10  key               586672 non-null  int64  \n",
      " 11  loudness          586672 non-null  float64\n",
      " 12  mode              586672 non-null  int64  \n",
      " 13  speechiness       586672 non-null  float64\n",
      " 14  acousticness      586672 non-null  float64\n",
      " 15  instrumentalness  586672 non-null  float64\n",
      " 16  liveness          586672 non-null  float64\n",
      " 17  valence           586672 non-null  float64\n",
      " 18  tempo             586672 non-null  float64\n",
      " 19  time_signature    586672 non-null  int64  \n",
      "dtypes: float64(9), int64(6), object(5)\n",
      "memory usage: 89.5+ MB\n"
     ]
    },
    {
     "data": {
      "text/plain": [
       "None"
      ]
     },
     "metadata": {},
     "output_type": "display_data"
    },
    {
     "name": "stdout",
     "output_type": "stream",
     "text": [
      "\n",
      "\n",
      "Valeurs manquantes dans le DataFrame:\n"
     ]
    },
    {
     "data": {
      "text/plain": [
       "id                   0\n",
       "name                71\n",
       "popularity           0\n",
       "duration_ms          0\n",
       "explicit             0\n",
       "artists              0\n",
       "id_artists           0\n",
       "release_date         0\n",
       "danceability         0\n",
       "energy               0\n",
       "key                  0\n",
       "loudness             0\n",
       "mode                 0\n",
       "speechiness          0\n",
       "acousticness         0\n",
       "instrumentalness     0\n",
       "liveness             0\n",
       "valence              0\n",
       "tempo                0\n",
       "time_signature       0\n",
       "dtype: int64"
      ]
     },
     "metadata": {},
     "output_type": "display_data"
    },
    {
     "name": "stdout",
     "output_type": "stream",
     "text": [
      "\n",
      "\n",
      "Statistiques descriptives du DataFrame:\n"
     ]
    },
    {
     "data": {
      "text/html": [
       "<div>\n",
       "<style scoped>\n",
       "    .dataframe tbody tr th:only-of-type {\n",
       "        vertical-align: middle;\n",
       "    }\n",
       "\n",
       "    .dataframe tbody tr th {\n",
       "        vertical-align: top;\n",
       "    }\n",
       "\n",
       "    .dataframe thead th {\n",
       "        text-align: right;\n",
       "    }\n",
       "</style>\n",
       "<table border=\"1\" class=\"dataframe\">\n",
       "  <thead>\n",
       "    <tr style=\"text-align: right;\">\n",
       "      <th></th>\n",
       "      <th>popularity</th>\n",
       "      <th>duration_ms</th>\n",
       "      <th>explicit</th>\n",
       "      <th>danceability</th>\n",
       "      <th>energy</th>\n",
       "      <th>key</th>\n",
       "      <th>loudness</th>\n",
       "      <th>mode</th>\n",
       "      <th>speechiness</th>\n",
       "      <th>acousticness</th>\n",
       "      <th>instrumentalness</th>\n",
       "      <th>liveness</th>\n",
       "      <th>valence</th>\n",
       "      <th>tempo</th>\n",
       "      <th>time_signature</th>\n",
       "    </tr>\n",
       "  </thead>\n",
       "  <tbody>\n",
       "    <tr>\n",
       "      <th>count</th>\n",
       "      <td>586672.000000</td>\n",
       "      <td>5.866720e+05</td>\n",
       "      <td>586672.000000</td>\n",
       "      <td>586672.000000</td>\n",
       "      <td>586672.000000</td>\n",
       "      <td>586672.000000</td>\n",
       "      <td>586672.000000</td>\n",
       "      <td>586672.000000</td>\n",
       "      <td>586672.000000</td>\n",
       "      <td>586672.000000</td>\n",
       "      <td>586672.000000</td>\n",
       "      <td>586672.000000</td>\n",
       "      <td>586672.000000</td>\n",
       "      <td>586672.000000</td>\n",
       "      <td>586672.000000</td>\n",
       "    </tr>\n",
       "    <tr>\n",
       "      <th>mean</th>\n",
       "      <td>27.570053</td>\n",
       "      <td>2.300512e+05</td>\n",
       "      <td>0.044086</td>\n",
       "      <td>0.563594</td>\n",
       "      <td>0.542036</td>\n",
       "      <td>5.221603</td>\n",
       "      <td>-10.206067</td>\n",
       "      <td>0.658797</td>\n",
       "      <td>0.104864</td>\n",
       "      <td>0.449863</td>\n",
       "      <td>0.113451</td>\n",
       "      <td>0.213935</td>\n",
       "      <td>0.552292</td>\n",
       "      <td>118.464857</td>\n",
       "      <td>3.873382</td>\n",
       "    </tr>\n",
       "    <tr>\n",
       "      <th>std</th>\n",
       "      <td>18.370642</td>\n",
       "      <td>1.265261e+05</td>\n",
       "      <td>0.205286</td>\n",
       "      <td>0.166103</td>\n",
       "      <td>0.251923</td>\n",
       "      <td>3.519423</td>\n",
       "      <td>5.089328</td>\n",
       "      <td>0.474114</td>\n",
       "      <td>0.179893</td>\n",
       "      <td>0.348837</td>\n",
       "      <td>0.266868</td>\n",
       "      <td>0.184326</td>\n",
       "      <td>0.257671</td>\n",
       "      <td>29.764108</td>\n",
       "      <td>0.473162</td>\n",
       "    </tr>\n",
       "    <tr>\n",
       "      <th>min</th>\n",
       "      <td>0.000000</td>\n",
       "      <td>3.344000e+03</td>\n",
       "      <td>0.000000</td>\n",
       "      <td>0.000000</td>\n",
       "      <td>0.000000</td>\n",
       "      <td>0.000000</td>\n",
       "      <td>-60.000000</td>\n",
       "      <td>0.000000</td>\n",
       "      <td>0.000000</td>\n",
       "      <td>0.000000</td>\n",
       "      <td>0.000000</td>\n",
       "      <td>0.000000</td>\n",
       "      <td>0.000000</td>\n",
       "      <td>0.000000</td>\n",
       "      <td>0.000000</td>\n",
       "    </tr>\n",
       "    <tr>\n",
       "      <th>25%</th>\n",
       "      <td>13.000000</td>\n",
       "      <td>1.750930e+05</td>\n",
       "      <td>0.000000</td>\n",
       "      <td>0.453000</td>\n",
       "      <td>0.343000</td>\n",
       "      <td>2.000000</td>\n",
       "      <td>-12.891000</td>\n",
       "      <td>0.000000</td>\n",
       "      <td>0.034000</td>\n",
       "      <td>0.096900</td>\n",
       "      <td>0.000000</td>\n",
       "      <td>0.098300</td>\n",
       "      <td>0.346000</td>\n",
       "      <td>95.600000</td>\n",
       "      <td>4.000000</td>\n",
       "    </tr>\n",
       "    <tr>\n",
       "      <th>50%</th>\n",
       "      <td>27.000000</td>\n",
       "      <td>2.148930e+05</td>\n",
       "      <td>0.000000</td>\n",
       "      <td>0.577000</td>\n",
       "      <td>0.549000</td>\n",
       "      <td>5.000000</td>\n",
       "      <td>-9.243000</td>\n",
       "      <td>1.000000</td>\n",
       "      <td>0.044300</td>\n",
       "      <td>0.422000</td>\n",
       "      <td>0.000024</td>\n",
       "      <td>0.139000</td>\n",
       "      <td>0.564000</td>\n",
       "      <td>117.384000</td>\n",
       "      <td>4.000000</td>\n",
       "    </tr>\n",
       "    <tr>\n",
       "      <th>75%</th>\n",
       "      <td>41.000000</td>\n",
       "      <td>2.638670e+05</td>\n",
       "      <td>0.000000</td>\n",
       "      <td>0.686000</td>\n",
       "      <td>0.748000</td>\n",
       "      <td>8.000000</td>\n",
       "      <td>-6.482000</td>\n",
       "      <td>1.000000</td>\n",
       "      <td>0.076300</td>\n",
       "      <td>0.785000</td>\n",
       "      <td>0.009550</td>\n",
       "      <td>0.278000</td>\n",
       "      <td>0.769000</td>\n",
       "      <td>136.321000</td>\n",
       "      <td>4.000000</td>\n",
       "    </tr>\n",
       "    <tr>\n",
       "      <th>max</th>\n",
       "      <td>100.000000</td>\n",
       "      <td>5.621218e+06</td>\n",
       "      <td>1.000000</td>\n",
       "      <td>0.991000</td>\n",
       "      <td>1.000000</td>\n",
       "      <td>11.000000</td>\n",
       "      <td>5.376000</td>\n",
       "      <td>1.000000</td>\n",
       "      <td>0.971000</td>\n",
       "      <td>0.996000</td>\n",
       "      <td>1.000000</td>\n",
       "      <td>1.000000</td>\n",
       "      <td>1.000000</td>\n",
       "      <td>246.381000</td>\n",
       "      <td>5.000000</td>\n",
       "    </tr>\n",
       "  </tbody>\n",
       "</table>\n",
       "</div>"
      ],
      "text/plain": [
       "          popularity   duration_ms       explicit   danceability  \\\n",
       "count  586672.000000  5.866720e+05  586672.000000  586672.000000   \n",
       "mean       27.570053  2.300512e+05       0.044086       0.563594   \n",
       "std        18.370642  1.265261e+05       0.205286       0.166103   \n",
       "min         0.000000  3.344000e+03       0.000000       0.000000   \n",
       "25%        13.000000  1.750930e+05       0.000000       0.453000   \n",
       "50%        27.000000  2.148930e+05       0.000000       0.577000   \n",
       "75%        41.000000  2.638670e+05       0.000000       0.686000   \n",
       "max       100.000000  5.621218e+06       1.000000       0.991000   \n",
       "\n",
       "              energy            key       loudness           mode  \\\n",
       "count  586672.000000  586672.000000  586672.000000  586672.000000   \n",
       "mean        0.542036       5.221603     -10.206067       0.658797   \n",
       "std         0.251923       3.519423       5.089328       0.474114   \n",
       "min         0.000000       0.000000     -60.000000       0.000000   \n",
       "25%         0.343000       2.000000     -12.891000       0.000000   \n",
       "50%         0.549000       5.000000      -9.243000       1.000000   \n",
       "75%         0.748000       8.000000      -6.482000       1.000000   \n",
       "max         1.000000      11.000000       5.376000       1.000000   \n",
       "\n",
       "         speechiness   acousticness  instrumentalness       liveness  \\\n",
       "count  586672.000000  586672.000000     586672.000000  586672.000000   \n",
       "mean        0.104864       0.449863          0.113451       0.213935   \n",
       "std         0.179893       0.348837          0.266868       0.184326   \n",
       "min         0.000000       0.000000          0.000000       0.000000   \n",
       "25%         0.034000       0.096900          0.000000       0.098300   \n",
       "50%         0.044300       0.422000          0.000024       0.139000   \n",
       "75%         0.076300       0.785000          0.009550       0.278000   \n",
       "max         0.971000       0.996000          1.000000       1.000000   \n",
       "\n",
       "             valence          tempo  time_signature  \n",
       "count  586672.000000  586672.000000   586672.000000  \n",
       "mean        0.552292     118.464857        3.873382  \n",
       "std         0.257671      29.764108        0.473162  \n",
       "min         0.000000       0.000000        0.000000  \n",
       "25%         0.346000      95.600000        4.000000  \n",
       "50%         0.564000     117.384000        4.000000  \n",
       "75%         0.769000     136.321000        4.000000  \n",
       "max         1.000000     246.381000        5.000000  "
      ]
     },
     "metadata": {},
     "output_type": "display_data"
    }
   ],
   "source": [
    "data_summary(df_track)"
   ]
  },
  {
   "cell_type": "markdown",
   "id": "f1642608",
   "metadata": {},
   "source": [
    "#### **Description pour le dataframe df_track** \n",
    "\n",
    "nombre d'observation : 586 672\n",
    "\n",
    "nombre de variable : 21\n",
    "\n",
    "type de variable : float, object, integer\n",
    "\n",
    "valeurs manquantes : On a 71 valeurs manquantes pour la colonne name. \n"
   ]
  },
  {
   "cell_type": "markdown",
   "id": "3314ac8f",
   "metadata": {},
   "source": [
    "## Data cleaning : df_track"
   ]
  },
  {
   "cell_type": "markdown",
   "id": "63eaa839",
   "metadata": {},
   "source": [
    "Pour simplifier les questions suivantes, nous allons supprimer les crochets et les apostrophes."
   ]
  },
  {
   "cell_type": "code",
   "execution_count": 9,
   "id": "195cb29d",
   "metadata": {
    "scrolled": false
   },
   "outputs": [
    {
     "data": {
      "text/html": [
       "<div>\n",
       "<style scoped>\n",
       "    .dataframe tbody tr th:only-of-type {\n",
       "        vertical-align: middle;\n",
       "    }\n",
       "\n",
       "    .dataframe tbody tr th {\n",
       "        vertical-align: top;\n",
       "    }\n",
       "\n",
       "    .dataframe thead th {\n",
       "        text-align: right;\n",
       "    }\n",
       "</style>\n",
       "<table border=\"1\" class=\"dataframe\">\n",
       "  <thead>\n",
       "    <tr style=\"text-align: right;\">\n",
       "      <th></th>\n",
       "      <th>id</th>\n",
       "      <th>name</th>\n",
       "      <th>popularity</th>\n",
       "      <th>duration_ms</th>\n",
       "      <th>explicit</th>\n",
       "      <th>artists</th>\n",
       "      <th>id_artists</th>\n",
       "      <th>release_date</th>\n",
       "      <th>danceability</th>\n",
       "      <th>energy</th>\n",
       "      <th>key</th>\n",
       "      <th>loudness</th>\n",
       "      <th>mode</th>\n",
       "      <th>speechiness</th>\n",
       "      <th>acousticness</th>\n",
       "      <th>instrumentalness</th>\n",
       "      <th>liveness</th>\n",
       "      <th>valence</th>\n",
       "      <th>tempo</th>\n",
       "      <th>time_signature</th>\n",
       "    </tr>\n",
       "  </thead>\n",
       "  <tbody>\n",
       "    <tr>\n",
       "      <th>0</th>\n",
       "      <td>35iwgR4jXetI318WEWsa1Q</td>\n",
       "      <td>Carve</td>\n",
       "      <td>6</td>\n",
       "      <td>126903</td>\n",
       "      <td>0</td>\n",
       "      <td>Uli</td>\n",
       "      <td>45tIt06XoI0Iio4LBEVpls</td>\n",
       "      <td>1922-02-22</td>\n",
       "      <td>0.645</td>\n",
       "      <td>0.4450</td>\n",
       "      <td>0</td>\n",
       "      <td>-13.338</td>\n",
       "      <td>1</td>\n",
       "      <td>0.4510</td>\n",
       "      <td>0.674</td>\n",
       "      <td>0.7440</td>\n",
       "      <td>0.151</td>\n",
       "      <td>0.127</td>\n",
       "      <td>104.851</td>\n",
       "      <td>3</td>\n",
       "    </tr>\n",
       "    <tr>\n",
       "      <th>1</th>\n",
       "      <td>021ht4sdgPcrDgSk7JTbKY</td>\n",
       "      <td>Capítulo 2.16 - Banquero Anarquista</td>\n",
       "      <td>0</td>\n",
       "      <td>98200</td>\n",
       "      <td>0</td>\n",
       "      <td>Fernando Pessoa</td>\n",
       "      <td>14jtPCOoNZwquk5wd9DxrY</td>\n",
       "      <td>1922-06-01</td>\n",
       "      <td>0.695</td>\n",
       "      <td>0.2630</td>\n",
       "      <td>0</td>\n",
       "      <td>-22.136</td>\n",
       "      <td>1</td>\n",
       "      <td>0.9570</td>\n",
       "      <td>0.797</td>\n",
       "      <td>0.0000</td>\n",
       "      <td>0.148</td>\n",
       "      <td>0.655</td>\n",
       "      <td>102.009</td>\n",
       "      <td>1</td>\n",
       "    </tr>\n",
       "    <tr>\n",
       "      <th>2</th>\n",
       "      <td>07A5yehtSnoedViJAZkNnc</td>\n",
       "      <td>Vivo para Quererte - Remasterizado</td>\n",
       "      <td>0</td>\n",
       "      <td>181640</td>\n",
       "      <td>0</td>\n",
       "      <td>Ignacio Corsini</td>\n",
       "      <td>5LiOoJbxVSAMkBS2fUm3X2</td>\n",
       "      <td>1922-03-21</td>\n",
       "      <td>0.434</td>\n",
       "      <td>0.1770</td>\n",
       "      <td>1</td>\n",
       "      <td>-21.180</td>\n",
       "      <td>1</td>\n",
       "      <td>0.0512</td>\n",
       "      <td>0.994</td>\n",
       "      <td>0.0218</td>\n",
       "      <td>0.212</td>\n",
       "      <td>0.457</td>\n",
       "      <td>130.418</td>\n",
       "      <td>5</td>\n",
       "    </tr>\n",
       "    <tr>\n",
       "      <th>3</th>\n",
       "      <td>08FmqUhxtyLTn6pAh6bk45</td>\n",
       "      <td>El Prisionero - Remasterizado</td>\n",
       "      <td>0</td>\n",
       "      <td>176907</td>\n",
       "      <td>0</td>\n",
       "      <td>Ignacio Corsini</td>\n",
       "      <td>5LiOoJbxVSAMkBS2fUm3X2</td>\n",
       "      <td>1922-03-21</td>\n",
       "      <td>0.321</td>\n",
       "      <td>0.0946</td>\n",
       "      <td>7</td>\n",
       "      <td>-27.961</td>\n",
       "      <td>1</td>\n",
       "      <td>0.0504</td>\n",
       "      <td>0.995</td>\n",
       "      <td>0.9180</td>\n",
       "      <td>0.104</td>\n",
       "      <td>0.397</td>\n",
       "      <td>169.980</td>\n",
       "      <td>3</td>\n",
       "    </tr>\n",
       "    <tr>\n",
       "      <th>4</th>\n",
       "      <td>08y9GfoqCWfOGsKdwojr5e</td>\n",
       "      <td>Lady of the Evening</td>\n",
       "      <td>0</td>\n",
       "      <td>163080</td>\n",
       "      <td>0</td>\n",
       "      <td>Dick Haymes</td>\n",
       "      <td>3BiJGZsyX9sJchTqcSA7Su</td>\n",
       "      <td>1922</td>\n",
       "      <td>0.402</td>\n",
       "      <td>0.1580</td>\n",
       "      <td>3</td>\n",
       "      <td>-16.900</td>\n",
       "      <td>0</td>\n",
       "      <td>0.0390</td>\n",
       "      <td>0.989</td>\n",
       "      <td>0.1300</td>\n",
       "      <td>0.311</td>\n",
       "      <td>0.196</td>\n",
       "      <td>103.220</td>\n",
       "      <td>4</td>\n",
       "    </tr>\n",
       "  </tbody>\n",
       "</table>\n",
       "</div>"
      ],
      "text/plain": [
       "                       id                                 name  popularity  \\\n",
       "0  35iwgR4jXetI318WEWsa1Q                                Carve           6   \n",
       "1  021ht4sdgPcrDgSk7JTbKY  Capítulo 2.16 - Banquero Anarquista           0   \n",
       "2  07A5yehtSnoedViJAZkNnc   Vivo para Quererte - Remasterizado           0   \n",
       "3  08FmqUhxtyLTn6pAh6bk45        El Prisionero - Remasterizado           0   \n",
       "4  08y9GfoqCWfOGsKdwojr5e                  Lady of the Evening           0   \n",
       "\n",
       "   duration_ms  explicit          artists              id_artists  \\\n",
       "0       126903         0              Uli  45tIt06XoI0Iio4LBEVpls   \n",
       "1        98200         0  Fernando Pessoa  14jtPCOoNZwquk5wd9DxrY   \n",
       "2       181640         0  Ignacio Corsini  5LiOoJbxVSAMkBS2fUm3X2   \n",
       "3       176907         0  Ignacio Corsini  5LiOoJbxVSAMkBS2fUm3X2   \n",
       "4       163080         0      Dick Haymes  3BiJGZsyX9sJchTqcSA7Su   \n",
       "\n",
       "  release_date  danceability  energy  key  loudness  mode  speechiness  \\\n",
       "0   1922-02-22         0.645  0.4450    0   -13.338     1       0.4510   \n",
       "1   1922-06-01         0.695  0.2630    0   -22.136     1       0.9570   \n",
       "2   1922-03-21         0.434  0.1770    1   -21.180     1       0.0512   \n",
       "3   1922-03-21         0.321  0.0946    7   -27.961     1       0.0504   \n",
       "4         1922         0.402  0.1580    3   -16.900     0       0.0390   \n",
       "\n",
       "   acousticness  instrumentalness  liveness  valence    tempo  time_signature  \n",
       "0         0.674            0.7440     0.151    0.127  104.851               3  \n",
       "1         0.797            0.0000     0.148    0.655  102.009               1  \n",
       "2         0.994            0.0218     0.212    0.457  130.418               5  \n",
       "3         0.995            0.9180     0.104    0.397  169.980               3  \n",
       "4         0.989            0.1300     0.311    0.196  103.220               4  "
      ]
     },
     "execution_count": 9,
     "metadata": {},
     "output_type": "execute_result"
    }
   ],
   "source": [
    "# Remplacer les crochets \"[\" et \"]\" par une chaîne vide dans toutes les colonnes\n",
    "df_track = df_track.replace(to_replace=r'\\[|\\]', value='', regex=True)\n",
    "# On enleve les apostrophes\n",
    "df_track = df_track.replace(to_replace=\"'\", value='', regex=True)\n",
    "\n",
    "df_track.head()"
   ]
  },
  {
   "cell_type": "markdown",
   "id": "bfa0a975",
   "metadata": {},
   "source": [
    "##  Data cleaning : df_art "
   ]
  },
  {
   "cell_type": "code",
   "execution_count": 10,
   "id": "3cebe147",
   "metadata": {},
   "outputs": [
    {
     "data": {
      "text/html": [
       "<div>\n",
       "<style scoped>\n",
       "    .dataframe tbody tr th:only-of-type {\n",
       "        vertical-align: middle;\n",
       "    }\n",
       "\n",
       "    .dataframe tbody tr th {\n",
       "        vertical-align: top;\n",
       "    }\n",
       "\n",
       "    .dataframe thead th {\n",
       "        text-align: right;\n",
       "    }\n",
       "</style>\n",
       "<table border=\"1\" class=\"dataframe\">\n",
       "  <thead>\n",
       "    <tr style=\"text-align: right;\">\n",
       "      <th></th>\n",
       "      <th>id</th>\n",
       "      <th>followers</th>\n",
       "      <th>genres</th>\n",
       "      <th>name</th>\n",
       "      <th>popularity</th>\n",
       "    </tr>\n",
       "  </thead>\n",
       "  <tbody>\n",
       "    <tr>\n",
       "      <th>0</th>\n",
       "      <td>0DheY5irMjBUeLybbCUEZ2</td>\n",
       "      <td>0.0</td>\n",
       "      <td></td>\n",
       "      <td>Armid &amp; Amir Zare Pashai feat. Sara Rouzbehani</td>\n",
       "      <td>0</td>\n",
       "    </tr>\n",
       "    <tr>\n",
       "      <th>1</th>\n",
       "      <td>0DlhY15l3wsrnlfGio2bjU</td>\n",
       "      <td>5.0</td>\n",
       "      <td></td>\n",
       "      <td>ปูนา ภาวิณี</td>\n",
       "      <td>0</td>\n",
       "    </tr>\n",
       "    <tr>\n",
       "      <th>2</th>\n",
       "      <td>0DmRESX2JknGPQyO15yxg7</td>\n",
       "      <td>0.0</td>\n",
       "      <td></td>\n",
       "      <td>Sadaa</td>\n",
       "      <td>0</td>\n",
       "    </tr>\n",
       "    <tr>\n",
       "      <th>3</th>\n",
       "      <td>0DmhnbHjm1qw6NCYPeZNgJ</td>\n",
       "      <td>0.0</td>\n",
       "      <td></td>\n",
       "      <td>Tragruda</td>\n",
       "      <td>0</td>\n",
       "    </tr>\n",
       "    <tr>\n",
       "      <th>4</th>\n",
       "      <td>0Dn11fWM7vHQ3rinvWEl4E</td>\n",
       "      <td>2.0</td>\n",
       "      <td></td>\n",
       "      <td>Ioannis Panoutsopoulos</td>\n",
       "      <td>0</td>\n",
       "    </tr>\n",
       "  </tbody>\n",
       "</table>\n",
       "</div>"
      ],
      "text/plain": [
       "                       id  followers genres  \\\n",
       "0  0DheY5irMjBUeLybbCUEZ2        0.0          \n",
       "1  0DlhY15l3wsrnlfGio2bjU        5.0          \n",
       "2  0DmRESX2JknGPQyO15yxg7        0.0          \n",
       "3  0DmhnbHjm1qw6NCYPeZNgJ        0.0          \n",
       "4  0Dn11fWM7vHQ3rinvWEl4E        2.0          \n",
       "\n",
       "                                             name  popularity  \n",
       "0  Armid & Amir Zare Pashai feat. Sara Rouzbehani           0  \n",
       "1                                     ปูนา ภาวิณี           0  \n",
       "2                                           Sadaa           0  \n",
       "3                                        Tragruda           0  \n",
       "4                          Ioannis Panoutsopoulos           0  "
      ]
     },
     "execution_count": 10,
     "metadata": {},
     "output_type": "execute_result"
    }
   ],
   "source": [
    "# Remplacer les crochets \"[\" et \"]\" par une chaîne vide dans toutes les colonnes\n",
    "df_art= df_art.replace(to_replace=r'\\[|\\]', value='', regex=True)\n",
    "# On enleve les apostrophes\n",
    "df_art = df_art.replace(to_replace=\"'\", value='', regex=True)\n",
    "\n",
    "df_art.head()"
   ]
  },
  {
   "cell_type": "markdown",
   "id": "352be513",
   "metadata": {},
   "source": [
    "# 04 - Analyse univariée et bivariée"
   ]
  },
  {
   "cell_type": "markdown",
   "id": "dfb229d8",
   "metadata": {},
   "source": [
    "## A) Analyse univariée"
   ]
  },
  {
   "cell_type": "markdown",
   "id": "8e406c7d",
   "metadata": {},
   "source": [
    "Nous allons procéder à une analyse univariée pour chaque base de données. L'analyse univariée se focalise sur l'étude d'une seule variable à la fois, cherchant à comprendre les caractéristiques, la distribution, les statistiques et les comportements de cette variable de manière indépendante des autres."
   ]
  },
  {
   "cell_type": "markdown",
   "id": "ae589bf6",
   "metadata": {},
   "source": [
    "### Description & visualisation : df_art"
   ]
  },
  {
   "cell_type": "code",
   "execution_count": 15,
   "id": "f59156d8",
   "metadata": {},
   "outputs": [
    {
     "name": "stdout",
     "output_type": "stream",
     "text": [
      "\u001b[34m\u001b[1m\n",
      "Le dataframe df_art a 1162095 lignes et 5 colonnes\n",
      "\n",
      "Les colonnes du dataframe sont: \n",
      " \n",
      "Index(['id', 'followers', 'genres', 'name', 'popularity'], dtype='object')\n",
      "\n",
      "Les libellés et types de variables : \n",
      "\n",
      "id             object\n",
      "followers     float64\n",
      "genres         object\n",
      "name           object\n",
      "popularity      int64\n",
      "dtype: object\n"
     ]
    }
   ],
   "source": [
    "print(Fore.BLUE + Style.BRIGHT)\n",
    "description(df_art)"
   ]
  },
  {
   "cell_type": "markdown",
   "id": "5c1e5afa",
   "metadata": {},
   "source": [
    "#### Relation entre niveau de popularité de l'artiste et nombre de followers"
   ]
  },
  {
   "cell_type": "code",
   "execution_count": 16,
   "id": "e89d70f0",
   "metadata": {
    "scrolled": true
   },
   "outputs": [
    {
     "data": {
      "text/html": [
       "<div>\n",
       "<style scoped>\n",
       "    .dataframe tbody tr th:only-of-type {\n",
       "        vertical-align: middle;\n",
       "    }\n",
       "\n",
       "    .dataframe tbody tr th {\n",
       "        vertical-align: top;\n",
       "    }\n",
       "\n",
       "    .dataframe thead th {\n",
       "        text-align: right;\n",
       "    }\n",
       "</style>\n",
       "<table border=\"1\" class=\"dataframe\">\n",
       "  <thead>\n",
       "    <tr style=\"text-align: right;\">\n",
       "      <th></th>\n",
       "      <th>followers</th>\n",
       "    </tr>\n",
       "    <tr>\n",
       "      <th>popularity</th>\n",
       "      <th></th>\n",
       "    </tr>\n",
       "  </thead>\n",
       "  <tbody>\n",
       "    <tr>\n",
       "      <th>0</th>\n",
       "      <td>5.226097e+01</td>\n",
       "    </tr>\n",
       "    <tr>\n",
       "      <th>1</th>\n",
       "      <td>1.285263e+02</td>\n",
       "    </tr>\n",
       "    <tr>\n",
       "      <th>2</th>\n",
       "      <td>1.753016e+02</td>\n",
       "    </tr>\n",
       "    <tr>\n",
       "      <th>3</th>\n",
       "      <td>2.337437e+02</td>\n",
       "    </tr>\n",
       "    <tr>\n",
       "      <th>4</th>\n",
       "      <td>2.779250e+02</td>\n",
       "    </tr>\n",
       "    <tr>\n",
       "      <th>...</th>\n",
       "      <td>...</td>\n",
       "    </tr>\n",
       "    <tr>\n",
       "      <th>94</th>\n",
       "      <td>2.993322e+07</td>\n",
       "    </tr>\n",
       "    <tr>\n",
       "      <th>95</th>\n",
       "      <td>2.942828e+07</td>\n",
       "    </tr>\n",
       "    <tr>\n",
       "      <th>96</th>\n",
       "      <td>2.664293e+07</td>\n",
       "    </tr>\n",
       "    <tr>\n",
       "      <th>98</th>\n",
       "      <td>4.184358e+07</td>\n",
       "    </tr>\n",
       "    <tr>\n",
       "      <th>100</th>\n",
       "      <td>4.460697e+07</td>\n",
       "    </tr>\n",
       "  </tbody>\n",
       "</table>\n",
       "<p>99 rows × 1 columns</p>\n",
       "</div>"
      ],
      "text/plain": [
       "               followers\n",
       "popularity              \n",
       "0           5.226097e+01\n",
       "1           1.285263e+02\n",
       "2           1.753016e+02\n",
       "3           2.337437e+02\n",
       "4           2.779250e+02\n",
       "...                  ...\n",
       "94          2.993322e+07\n",
       "95          2.942828e+07\n",
       "96          2.664293e+07\n",
       "98          4.184358e+07\n",
       "100         4.460697e+07\n",
       "\n",
       "[99 rows x 1 columns]"
      ]
     },
     "metadata": {},
     "output_type": "display_data"
    },
    {
     "data": {
      "image/png": "[encoded data removed]",
      "text/plain": [
       "<Figure size 576x432 with 1 Axes>"
      ]
     },
     "metadata": {
      "needs_background": "light"
     },
     "output_type": "display_data"
    }
   ],
   "source": [
    "#On regroupe par popularité et on aggrege par la moyenne des followers\n",
    "popularite_meanfollowers = df_art.groupby(\"popularity\").agg({\"followers\": \"mean\"})\n",
    "display(popularite_meanfollowers)\n",
    "\n",
    "#On trace un graphique à barres\n",
    "plt.figure(figsize=(8, 6))\n",
    "plt.bar(popularite_meanfollowers.index, popularite_meanfollowers[\"followers\"], color=\"magenta\")\n",
    "plt.xlabel(\"Popularité\")\n",
    "plt.ylabel(\"Nombre moyen de followers\")\n",
    "plt.title(\"Nombre moyen de followers par classe de popularité\")\n",
    "\n",
    "plt.show()"
   ]
  },
  {
   "cell_type": "markdown",
   "id": "cb012d16",
   "metadata": {},
   "source": [
    "#### Artiste avec le plus et le moins de followers"
   ]
  },
  {
   "cell_type": "code",
   "execution_count": 17,
   "id": "a2511b71",
   "metadata": {},
   "outputs": [
    {
     "name": "stdout",
     "output_type": "stream",
     "text": [
      "\u001b[34m\u001b[1m\n",
      "L'artiste avec le plus de followers est Ed Sheeran avec 78900234 followers.\n",
      "L'artiste avec le moins de followers est Armid & Amir Zare Pashai feat. Sara Rouzbehani avec 0 followers.\n"
     ]
    }
   ],
   "source": [
    "print(Fore.BLUE + Style.BRIGHT)\n",
    "xtrm_flw(df_art)"
   ]
  },
  {
   "cell_type": "markdown",
   "id": "811397f5",
   "metadata": {},
   "source": [
    "### Description & visualisation : df_track"
   ]
  },
  {
   "cell_type": "code",
   "execution_count": 18,
   "id": "9d0ca32e",
   "metadata": {
    "scrolled": true
   },
   "outputs": [
    {
     "name": "stdout",
     "output_type": "stream",
     "text": [
      "\u001b[34m\u001b[1mDescription du DataFrame df_track:\n",
      "Le dataframe df_art a 586672 lignes et 20 colonnes\n",
      "\n",
      "Les colonnes du dataframe sont: \n",
      " \n",
      "Index(['id', 'name', 'popularity', 'duration_ms', 'explicit', 'artists',\n",
      "       'id_artists', 'release_date', 'danceability', 'energy', 'key',\n",
      "       'loudness', 'mode', 'speechiness', 'acousticness', 'instrumentalness',\n",
      "       'liveness', 'valence', 'tempo', 'time_signature'],\n",
      "      dtype='object')\n",
      "\n",
      "Les libellés et types de variables : \n",
      "\n",
      "id                   object\n",
      "name                 object\n",
      "popularity            int64\n",
      "duration_ms           int64\n",
      "explicit              int64\n",
      "artists              object\n",
      "id_artists           object\n",
      "release_date         object\n",
      "danceability        float64\n",
      "energy              float64\n",
      "key                   int64\n",
      "loudness            float64\n",
      "mode                  int64\n",
      "speechiness         float64\n",
      "acousticness        float64\n",
      "instrumentalness    float64\n",
      "liveness            float64\n",
      "valence             float64\n",
      "tempo               float64\n",
      "time_signature        int64\n",
      "dtype: object\n"
     ]
    }
   ],
   "source": [
    "print(Fore.BLUE + Style.BRIGHT + \"Description du DataFrame df_track:\")\n",
    "description(df_track)"
   ]
  },
  {
   "cell_type": "markdown",
   "id": "ad8a0065",
   "metadata": {},
   "source": [
    "#### Morceau le plus ancien/récent (par date de sortie)"
   ]
  },
  {
   "cell_type": "code",
   "execution_count": 19,
   "id": "6a6d1187",
   "metadata": {},
   "outputs": [
    {
     "name": "stdout",
     "output_type": "stream",
     "text": [
      "\u001b[34m\u001b[1mMorceau le plus ancien/récent: \n",
      "  \n",
      "Le morceau le plus ancien est: Maldita sea la primera vez de Los Pincheira del Sur\n",
      "Le morceau le plus récent est: The Circle Game - Live at The 2nd Fret, Philadelphia, PA, 11/1966 de Joni Mitchell\n"
     ]
    }
   ],
   "source": [
    "print(Fore.BLUE + Style.BRIGHT + \"Morceau le plus ancien/récent: \\n  \")\n",
    "old_new_song(df_track)"
   ]
  },
  {
   "cell_type": "markdown",
   "id": "ca71a73f",
   "metadata": {},
   "source": [
    "#### Nombre de chanson par niveau de popularité"
   ]
  },
  {
   "cell_type": "code",
   "execution_count": 20,
   "id": "1ab97e24",
   "metadata": {
    "scrolled": true
   },
   "outputs": [
    {
     "data": {
      "image/png": "[encoded data removed]",
      "text/plain": [
       "<Figure size 432x288 with 1 Axes>"
      ]
     },
     "metadata": {
      "needs_background": "light"
     },
     "output_type": "display_data"
    }
   ],
   "source": [
    "#On fait un histogramme\n",
    "plt.hist(df_track['popularity'], bins=20, color = \"magenta\", rwidth=0.8)\n",
    "plt.xlabel('Popularité')\n",
    "plt.ylabel('Nombre de chansons')\n",
    "plt.title('Distribution de la popularité des chansons')\n",
    "plt.show()"
   ]
  },
  {
   "cell_type": "markdown",
   "id": "2d0c2edb",
   "metadata": {},
   "source": [
    "**Commentaire** :  On constate une répartition hétérogène du nombre de chansons par popularité. On a une tendance à la baisse: il y a de moins en moins de chansons populaires pour les notes de popularité élévées et énormement de chansons pas populaires."
   ]
  },
  {
   "cell_type": "markdown",
   "id": "fd3b2a71",
   "metadata": {},
   "source": [
    "### Description  & visualisation : df_top200"
   ]
  },
  {
   "cell_type": "code",
   "execution_count": 21,
   "id": "4def48ce",
   "metadata": {},
   "outputs": [
    {
     "name": "stdout",
     "output_type": "stream",
     "text": [
      "\u001b[34m\u001b[1m\n",
      "Le dataframe df_art a 73200 lignes et 6 colonnes\n",
      "\n",
      "Les colonnes du dataframe sont: \n",
      " \n",
      "Index(['Artist', 'Country', 'Date', 'Rank', 'Streams', 'Title'], dtype='object')\n",
      "\n",
      "Les libellés et types de variables : \n",
      "\n",
      "Artist     object\n",
      "Country    object\n",
      "Date       object\n",
      "Rank        int64\n",
      "Streams     int64\n",
      "Title      object\n",
      "dtype: object\n"
     ]
    }
   ],
   "source": [
    "print(Fore.BLUE + Style.BRIGHT )\n",
    "description(df_top200)"
   ]
  },
  {
   "cell_type": "markdown",
   "id": "a656a944",
   "metadata": {},
   "source": [
    "#### Morceau le plus écouté"
   ]
  },
  {
   "cell_type": "code",
   "execution_count": 22,
   "id": "6b5953fa",
   "metadata": {
    "scrolled": true
   },
   "outputs": [
    {
     "name": "stdout",
     "output_type": "stream",
     "text": [
      "\u001b[34m\u001b[1m\n",
      "Le morceau le plus streamé du TOP 200 Spotify est: All I Want for Christmas Is You de Mariah Care\n",
      "Le morceau le moins streamé du TOP 200 Spotify est: Levitating de Dua Lipa\n"
     ]
    }
   ],
   "source": [
    "print(Fore.BLUE + Style.BRIGHT )\n",
    "maxminstream(df_top200)"
   ]
  },
  {
   "cell_type": "markdown",
   "id": "11441dd4",
   "metadata": {},
   "source": [
    "## B) Analyse bivariée"
   ]
  },
  {
   "cell_type": "markdown",
   "id": "a586f946",
   "metadata": {},
   "source": [
    "Apres avoir analysé indépendemment les dataframes, on va les analyser conjointement pour voir leur dynamique, en faisant une analyse bivariée. \n",
    "L'analyse bivariée est une méthode d'exploration de données qui examine les relations entre deux variables ou caractéristiques d'un ensemble de données. Elle vise à déterminer comment ces deux variables interagissent et influencent mutuellement leurs valeurs."
   ]
  },
  {
   "cell_type": "markdown",
   "id": "bac6ef59",
   "metadata": {},
   "source": [
    "* ### df_track"
   ]
  },
  {
   "cell_type": "code",
   "execution_count": 23,
   "id": "0c61d83d",
   "metadata": {},
   "outputs": [
    {
     "data": {
      "image/png": "[encoded data removed]",
      "text/plain": [
       "<Figure size 1152x720 with 2 Axes>"
      ]
     },
     "metadata": {
      "needs_background": "light"
     },
     "output_type": "display_data"
    }
   ],
   "source": [
    "#visualisaton la corrélation entre toutes les colonnes \n",
    "visualize_correlation(df_track)"
   ]
  },
  {
   "cell_type": "code",
   "execution_count": 24,
   "id": "4960c5eb",
   "metadata": {
    "scrolled": true
   },
   "outputs": [
    {
     "name": "stdout",
     "output_type": "stream",
     "text": [
      "\u001b[34m\u001b[1m\n",
      "Corrélation entre popularity et danceability: 0.18699972321301453 \n",
      "\n",
      "('Il y a peu de corrélation entre les deux colonnes.', 'popularity', 'et', 'danceability')\n"
     ]
    }
   ],
   "source": [
    "# On utilise la fonction pour effectuer l'analyse bivariée\n",
    "column1 = \"popularity\"\n",
    "column2 = \"danceability\"\n",
    "correlation, commentaire = bivariate_analysis(df_track, \"popularity\", \"danceability\")\n",
    "#On affiche la corrélation et le commentaire associée\n",
    "print(Fore.BLUE + Style.BRIGHT )\n",
    "print(f\"Corrélation entre {column1} et {column2}: {correlation} \\n\")\n",
    "print(commentaire)"
   ]
  },
  {
   "cell_type": "markdown",
   "id": "a5e31cad",
   "metadata": {},
   "source": [
    "* ### Dataframe: df_art"
   ]
  },
  {
   "cell_type": "code",
   "execution_count": 256,
   "id": "60e9767d",
   "metadata": {
    "scrolled": true
   },
   "outputs": [
    {
     "data": {
      "image/png": "[encoded data removed]",
      "text/plain": [
       "<Figure size 1152x720 with 2 Axes>"
      ]
     },
     "metadata": {
      "needs_background": "light"
     },
     "output_type": "display_data"
    }
   ],
   "source": [
    "visualize_correlation(df_art)"
   ]
  },
  {
   "cell_type": "markdown",
   "id": "1c05f77a",
   "metadata": {},
   "source": [
    "Interprétation : On voit ici que le coefficient de corrélation entre niveau de popularité de l'artiste et nombre son nombre de followers est proche de 0. Autrement dit, lorsque le nombre de followers augmente, le niveau de popularité augmente moins que proportionnellement. L'exemple parfait est Ariana Grande qui a un niveau de popularité qui n'est \"que\" de 95, alors qu'elle est l'artiste qui possède le plus de followers : 61301006"
   ]
  },
  {
   "cell_type": "markdown",
   "id": "53b427d4",
   "metadata": {},
   "source": [
    "* ### df_top200"
   ]
  },
  {
   "cell_type": "code",
   "execution_count": 26,
   "id": "e57b97e2",
   "metadata": {
    "scrolled": true
   },
   "outputs": [
    {
     "data": {
      "image/png": "[encoded data removed]",
      "text/plain": [
       "<Figure size 1152x720 with 2 Axes>"
      ]
     },
     "metadata": {
      "needs_background": "light"
     },
     "output_type": "display_data"
    }
   ],
   "source": [
    "visualize_correlation(df_top200)"
   ]
  },
  {
   "cell_type": "markdown",
   "id": "17664a00",
   "metadata": {},
   "source": [
    "Interprétation : Le coefficient de corrélation entre rang du morceau dans le top 200 et nombre de streams est très proche de -1. Plus le nombre de streams est important, plus le rang élevé (proche du n°1)."
   ]
  },
  {
   "cell_type": "markdown",
   "id": "f4669dc8",
   "metadata": {},
   "source": [
    "# Partie 1 : Analyse descriptive des bases et visualisation:"
   ]
  },
  {
   "cell_type": "code",
   "execution_count": 11,
   "id": "0f0e7b20",
   "metadata": {},
   "outputs": [],
   "source": [
    "#On se dirige vers le répertoire Partie1\n",
    "path_partie1= os.path.join(path, 'Partie_1')\n",
    "os.chdir(path_partie1)"
   ]
  },
  {
   "cell_type": "code",
   "execution_count": 12,
   "id": "c2f857cb",
   "metadata": {},
   "outputs": [
    {
     "name": "stdout",
     "output_type": "stream",
     "text": [
      "C:\\Users\\maeva\\OneDrive\\Documents\\Projet_pythonM1\\Partie_1\n"
     ]
    }
   ],
   "source": [
    "print(os.getcwd())"
   ]
  },
  {
   "cell_type": "markdown",
   "id": "04dc1edc",
   "metadata": {},
   "source": [
    "### Question 1 : Quels sont les 10 artists les plus populaires?"
   ]
  },
  {
   "cell_type": "markdown",
   "id": "be172fc1",
   "metadata": {},
   "source": [
    "Le but est de déterminer le top 10 des artistes les plus populaires du dataset. Puis de représenter graphiquement leur nombre d’abonnés par ordre décroissant.\n",
    "\n",
    "Etape 1 : Pour cela, je me base sur le \"df_artists\" que je vais venir trier par ordre décroissant par rapport au rang de popularité. Cette méthode me permet d'obtenir par la suite les 10 artistes les plus populaires (les 10 ayant le rang de popularité le plus élevé)\n",
    "\n",
    "Etape 2 : Je vais par la suite créer un 'sous'-df composé du top 10 (avec comme colonnes 'nom', 'rang de popularité' et 'nombre de followers') trié dans l'ordre décroissant par rapport au nombre de followers. Ce 'sous'-df (df_top10_popularite) me sert ensuite à représenter graphiquement le nombre de followers par ordre décroissant du top 10."
   ]
  },
  {
   "cell_type": "code",
   "execution_count": 197,
   "id": "87f5499b",
   "metadata": {
    "scrolled": false
   },
   "outputs": [
    {
     "data": {
      "text/html": [
       "<div>\n",
       "<style scoped>\n",
       "    .dataframe tbody tr th:only-of-type {\n",
       "        vertical-align: middle;\n",
       "    }\n",
       "\n",
       "    .dataframe tbody tr th {\n",
       "        vertical-align: top;\n",
       "    }\n",
       "\n",
       "    .dataframe thead th {\n",
       "        text-align: right;\n",
       "    }\n",
       "</style>\n",
       "<table border=\"1\" class=\"dataframe\">\n",
       "  <thead>\n",
       "    <tr style=\"text-align: right;\">\n",
       "      <th></th>\n",
       "      <th>name</th>\n",
       "      <th>popularity</th>\n",
       "      <th>followers</th>\n",
       "    </tr>\n",
       "  </thead>\n",
       "  <tbody>\n",
       "    <tr>\n",
       "      <th>313676</th>\n",
       "      <td>Drake</td>\n",
       "      <td>98</td>\n",
       "      <td>54416812.0</td>\n",
       "    </tr>\n",
       "    <tr>\n",
       "      <th>144481</th>\n",
       "      <td>Justin Bieber</td>\n",
       "      <td>100</td>\n",
       "      <td>44606973.0</td>\n",
       "    </tr>\n",
       "    <tr>\n",
       "      <th>126338</th>\n",
       "      <td>Taylor Swift</td>\n",
       "      <td>98</td>\n",
       "      <td>38869193.0</td>\n",
       "    </tr>\n",
       "    <tr>\n",
       "      <th>115489</th>\n",
       "      <td>Bad Bunny</td>\n",
       "      <td>98</td>\n",
       "      <td>32244734.0</td>\n",
       "    </tr>\n",
       "    <tr>\n",
       "      <th>144484</th>\n",
       "      <td>BTS</td>\n",
       "      <td>96</td>\n",
       "      <td>31623813.0</td>\n",
       "    </tr>\n",
       "    <tr>\n",
       "      <th>144483</th>\n",
       "      <td>The Weeknd</td>\n",
       "      <td>96</td>\n",
       "      <td>31308207.0</td>\n",
       "    </tr>\n",
       "    <tr>\n",
       "      <th>144486</th>\n",
       "      <td>J Balvin</td>\n",
       "      <td>95</td>\n",
       "      <td>27286822.0</td>\n",
       "    </tr>\n",
       "    <tr>\n",
       "      <th>144487</th>\n",
       "      <td>Dua Lipa</td>\n",
       "      <td>95</td>\n",
       "      <td>24123468.0</td>\n",
       "    </tr>\n",
       "    <tr>\n",
       "      <th>115490</th>\n",
       "      <td>Juice WRLD</td>\n",
       "      <td>96</td>\n",
       "      <td>16996777.0</td>\n",
       "    </tr>\n",
       "    <tr>\n",
       "      <th>115491</th>\n",
       "      <td>Myke Towers</td>\n",
       "      <td>95</td>\n",
       "      <td>5001808.0</td>\n",
       "    </tr>\n",
       "  </tbody>\n",
       "</table>\n",
       "</div>"
      ],
      "text/plain": [
       "                 name  popularity   followers\n",
       "313676          Drake          98  54416812.0\n",
       "144481  Justin Bieber         100  44606973.0\n",
       "126338   Taylor Swift          98  38869193.0\n",
       "115489      Bad Bunny          98  32244734.0\n",
       "144484            BTS          96  31623813.0\n",
       "144483     The Weeknd          96  31308207.0\n",
       "144486       J Balvin          95  27286822.0\n",
       "144487       Dua Lipa          95  24123468.0\n",
       "115490     Juice WRLD          96  16996777.0\n",
       "115491    Myke Towers          95   5001808.0"
      ]
     },
     "metadata": {},
     "output_type": "display_data"
    },
    {
     "data": {
      "image/png": "[encoded data removed]",
      "text/plain": [
       "<Figure size 432x288 with 1 Axes>"
      ]
     },
     "metadata": {
      "needs_background": "light"
     },
     "output_type": "display_data"
    },
    {
     "data": {
      "image/png": "[encoded data removed]",
      "text/plain": [
       "<Figure size 864x576 with 1 Axes>"
      ]
     },
     "metadata": {
      "needs_background": "light"
     },
     "output_type": "display_data"
    }
   ],
   "source": [
    "#On importe la fonction et on affiche le tableau ainsi que le graphique correspondant\n",
    "result = top10_popularite(df_art)\n",
    "display(result)"
   ]
  },
  {
   "cell_type": "markdown",
   "id": "5bbe9d71",
   "metadata": {},
   "source": [
    "### Question 2 : Calculer le nombre de chansons sorties chaque année. Représenter graphiquement les résultats"
   ]
  },
  {
   "cell_type": "markdown",
   "id": "8d6ab26b",
   "metadata": {},
   "source": [
    "Etape 1 : On s'assure que la colonne de date est correctement formatée dans le dataframe df_track, puis on extrait l'année de sortie de chaque morceau pour simplifier la visualisation.\n",
    "\n",
    "Etape 2 : Ensuite, on groupe les morceaux par année et on compte le nombre de sorties chaque année. On utilise ces données pour créer un graphique représentant l'évolution du nombre de morceaux sortis par an, et on affiche également un tableau récapitulatif de ces chiffres."
   ]
  },
  {
   "cell_type": "code",
   "execution_count": 163,
   "id": "c0888012",
   "metadata": {
    "scrolled": true
   },
   "outputs": [
    {
     "data": {
      "image/png": "[encoded data removed]",
      "text/plain": [
       "<Figure size 1584x720 with 1 Axes>"
      ]
     },
     "metadata": {
      "needs_background": "light"
     },
     "output_type": "display_data"
    },
    {
     "data": {
      "text/html": [
       "<div>\n",
       "<style scoped>\n",
       "    .dataframe tbody tr th:only-of-type {\n",
       "        vertical-align: middle;\n",
       "    }\n",
       "\n",
       "    .dataframe tbody tr th {\n",
       "        vertical-align: top;\n",
       "    }\n",
       "\n",
       "    .dataframe thead th {\n",
       "        text-align: right;\n",
       "    }\n",
       "</style>\n",
       "<table border=\"1\" class=\"dataframe\">\n",
       "  <thead>\n",
       "    <tr style=\"text-align: right;\">\n",
       "      <th></th>\n",
       "      <th>id</th>\n",
       "    </tr>\n",
       "    <tr>\n",
       "      <th>release_year</th>\n",
       "      <th></th>\n",
       "    </tr>\n",
       "  </thead>\n",
       "  <tbody>\n",
       "    <tr>\n",
       "      <th>1900</th>\n",
       "      <td>1</td>\n",
       "    </tr>\n",
       "    <tr>\n",
       "      <th>1922</th>\n",
       "      <td>294</td>\n",
       "    </tr>\n",
       "    <tr>\n",
       "      <th>1923</th>\n",
       "      <td>657</td>\n",
       "    </tr>\n",
       "    <tr>\n",
       "      <th>1924</th>\n",
       "      <td>633</td>\n",
       "    </tr>\n",
       "    <tr>\n",
       "      <th>1925</th>\n",
       "      <td>903</td>\n",
       "    </tr>\n",
       "    <tr>\n",
       "      <th>...</th>\n",
       "      <td>...</td>\n",
       "    </tr>\n",
       "    <tr>\n",
       "      <th>2017</th>\n",
       "      <td>9889</td>\n",
       "    </tr>\n",
       "    <tr>\n",
       "      <th>2018</th>\n",
       "      <td>10936</td>\n",
       "    </tr>\n",
       "    <tr>\n",
       "      <th>2019</th>\n",
       "      <td>11907</td>\n",
       "    </tr>\n",
       "    <tr>\n",
       "      <th>2020</th>\n",
       "      <td>13937</td>\n",
       "    </tr>\n",
       "    <tr>\n",
       "      <th>2021</th>\n",
       "      <td>6281</td>\n",
       "    </tr>\n",
       "  </tbody>\n",
       "</table>\n",
       "<p>101 rows × 1 columns</p>\n",
       "</div>"
      ],
      "text/plain": [
       "                 id\n",
       "release_year       \n",
       "1900              1\n",
       "1922            294\n",
       "1923            657\n",
       "1924            633\n",
       "1925            903\n",
       "...             ...\n",
       "2017           9889\n",
       "2018          10936\n",
       "2019          11907\n",
       "2020          13937\n",
       "2021           6281\n",
       "\n",
       "[101 rows x 1 columns]"
      ]
     },
     "metadata": {},
     "output_type": "display_data"
    },
    {
     "name": "stdout",
     "output_type": "stream",
     "text": [
      "None\n"
     ]
    }
   ],
   "source": [
    "chanson = chansonparannee()\n",
    "print(chanson)"
   ]
  },
  {
   "cell_type": "markdown",
   "id": "7dd33ab7",
   "metadata": {},
   "source": [
    "### Question 3  Quels artistes ont le plus de chansons distinctes dans le top 200 Global ? En cas d’égalité, les ordonner "
   ]
  },
  {
   "cell_type": "markdown",
   "id": "9caab662",
   "metadata": {},
   "source": [
    "Étape 1 : Initialement, nous regroupons les données du DataFrame df_top200 par artiste en utilisant la fonction groupby. Nous calculons ensuite la somme totale des streams pour chaque artiste en utilisant la colonne \"Streams\". Le résultat est stocké dans le DataFrame sommestream, ce qui nous donne une vue consolidée des streams totaux par artiste.\n",
    "\n",
    "Étape 2 : En groupant les chansons par artiste avec groupby sur les colonnes \"Artist\" et \"Title\", nous obtenons le nombre de chansons distinctes par artiste. Ensuite, nous renommons les colonnes du DataFrame résultant. Par la suite, la fusion des DataFrames sommestream et singleparartiste avec la clé \"Artist\" est effectuée. Enfin, le DataFrame résultant est trié en fonction du nombre de singles dans le top 200 et du total des streams, assurant la mise en avant des artistes les plus populaires.\n",
    "\n",
    "Enfin, nous créons un graphique en barres pour visualiser les 10 artistes ayant le plus de chansons distinctes dans le top 200 de Spotify. Le graphique est configuré avec des étiquettes appropriées pour les axes x et y, ainsi qu'un titre descriptif.\n"
   ]
  },
  {
   "cell_type": "code",
   "execution_count": 164,
   "id": "9b75f216",
   "metadata": {
    "scrolled": true
   },
   "outputs": [
    {
     "data": {
      "image/png": "[encoded data removed]",
      "text/plain": [
       "<Figure size 864x576 with 1 Axes>"
      ]
     },
     "metadata": {
      "needs_background": "light"
     },
     "output_type": "display_data"
    },
    {
     "data": {
      "text/html": [
       "<div>\n",
       "<style scoped>\n",
       "    .dataframe tbody tr th:only-of-type {\n",
       "        vertical-align: middle;\n",
       "    }\n",
       "\n",
       "    .dataframe tbody tr th {\n",
       "        vertical-align: top;\n",
       "    }\n",
       "\n",
       "    .dataframe thead th {\n",
       "        text-align: right;\n",
       "    }\n",
       "</style>\n",
       "<table border=\"1\" class=\"dataframe\">\n",
       "  <thead>\n",
       "    <tr style=\"text-align: right;\">\n",
       "      <th></th>\n",
       "      <th>Artist</th>\n",
       "      <th>Nombre de single dans le top200</th>\n",
       "      <th>Streams</th>\n",
       "    </tr>\n",
       "  </thead>\n",
       "  <tbody>\n",
       "    <tr>\n",
       "      <th>678</th>\n",
       "      <td>Taylor Swift</td>\n",
       "      <td>38</td>\n",
       "      <td>1187762192</td>\n",
       "    </tr>\n",
       "    <tr>\n",
       "      <th>420</th>\n",
       "      <td>Lil Uzi Vert</td>\n",
       "      <td>35</td>\n",
       "      <td>681245839</td>\n",
       "    </tr>\n",
       "    <tr>\n",
       "      <th>69</th>\n",
       "      <td>BTS</td>\n",
       "      <td>31</td>\n",
       "      <td>1093588891</td>\n",
       "    </tr>\n",
       "    <tr>\n",
       "      <th>234</th>\n",
       "      <td>Eminem</td>\n",
       "      <td>28</td>\n",
       "      <td>780198094</td>\n",
       "    </tr>\n",
       "    <tr>\n",
       "      <th>340</th>\n",
       "      <td>Juice WRLD</td>\n",
       "      <td>27</td>\n",
       "      <td>2646394526</td>\n",
       "    </tr>\n",
       "    <tr>\n",
       "      <th>...</th>\n",
       "      <td>...</td>\n",
       "      <td>...</td>\n",
       "      <td>...</td>\n",
       "    </tr>\n",
       "    <tr>\n",
       "      <th>571</th>\n",
       "      <td>Portugal. The Man</td>\n",
       "      <td>1</td>\n",
       "      <td>601606</td>\n",
       "    </tr>\n",
       "    <tr>\n",
       "      <th>262</th>\n",
       "      <td>Guilherme &amp; Benuto</td>\n",
       "      <td>1</td>\n",
       "      <td>601352</td>\n",
       "    </tr>\n",
       "    <tr>\n",
       "      <th>434</th>\n",
       "      <td>Luis Fonsi, Daddy Yankee, Justin Bieber</td>\n",
       "      <td>1</td>\n",
       "      <td>589282</td>\n",
       "    </tr>\n",
       "    <tr>\n",
       "      <th>433</th>\n",
       "      <td>Ludmilla, Topo La Maskara, Walshy Fire</td>\n",
       "      <td>1</td>\n",
       "      <td>588554</td>\n",
       "    </tr>\n",
       "    <tr>\n",
       "      <th>429</th>\n",
       "      <td>Los Ángeles Azules, Natalia Lafourcade</td>\n",
       "      <td>1</td>\n",
       "      <td>586686</td>\n",
       "    </tr>\n",
       "  </tbody>\n",
       "</table>\n",
       "<p>772 rows × 3 columns</p>\n",
       "</div>"
      ],
      "text/plain": [
       "                                      Artist  Nombre de single dans le top200  \\\n",
       "678                             Taylor Swift                               38   \n",
       "420                             Lil Uzi Vert                               35   \n",
       "69                                       BTS                               31   \n",
       "234                                   Eminem                               28   \n",
       "340                               Juice WRLD                               27   \n",
       "..                                       ...                              ...   \n",
       "571                        Portugal. The Man                                1   \n",
       "262                       Guilherme & Benuto                                1   \n",
       "434  Luis Fonsi, Daddy Yankee, Justin Bieber                                1   \n",
       "433   Ludmilla, Topo La Maskara, Walshy Fire                                1   \n",
       "429   Los Ángeles Azules, Natalia Lafourcade                                1   \n",
       "\n",
       "        Streams  \n",
       "678  1187762192  \n",
       "420   681245839  \n",
       "69   1093588891  \n",
       "234   780198094  \n",
       "340  2646394526  \n",
       "..          ...  \n",
       "571      601606  \n",
       "262      601352  \n",
       "434      589282  \n",
       "433      588554  \n",
       "429      586686  \n",
       "\n",
       "[772 rows x 3 columns]"
      ]
     },
     "metadata": {},
     "output_type": "display_data"
    },
    {
     "data": {
      "text/html": [
       "<div>\n",
       "<style scoped>\n",
       "    .dataframe tbody tr th:only-of-type {\n",
       "        vertical-align: middle;\n",
       "    }\n",
       "\n",
       "    .dataframe tbody tr th {\n",
       "        vertical-align: top;\n",
       "    }\n",
       "\n",
       "    .dataframe thead th {\n",
       "        text-align: right;\n",
       "    }\n",
       "</style>\n",
       "<table border=\"1\" class=\"dataframe\">\n",
       "  <thead>\n",
       "    <tr style=\"text-align: right;\">\n",
       "      <th></th>\n",
       "      <th>Artist</th>\n",
       "      <th>Nombre de single dans le top200</th>\n",
       "      <th>Streams</th>\n",
       "    </tr>\n",
       "  </thead>\n",
       "  <tbody>\n",
       "    <tr>\n",
       "      <th>678</th>\n",
       "      <td>Taylor Swift</td>\n",
       "      <td>38</td>\n",
       "      <td>1187762192</td>\n",
       "    </tr>\n",
       "    <tr>\n",
       "      <th>420</th>\n",
       "      <td>Lil Uzi Vert</td>\n",
       "      <td>35</td>\n",
       "      <td>681245839</td>\n",
       "    </tr>\n",
       "    <tr>\n",
       "      <th>69</th>\n",
       "      <td>BTS</td>\n",
       "      <td>31</td>\n",
       "      <td>1093588891</td>\n",
       "    </tr>\n",
       "    <tr>\n",
       "      <th>234</th>\n",
       "      <td>Eminem</td>\n",
       "      <td>28</td>\n",
       "      <td>780198094</td>\n",
       "    </tr>\n",
       "    <tr>\n",
       "      <th>340</th>\n",
       "      <td>Juice WRLD</td>\n",
       "      <td>27</td>\n",
       "      <td>2646394526</td>\n",
       "    </tr>\n",
       "    <tr>\n",
       "      <th>70</th>\n",
       "      <td>Bad Bunn</td>\n",
       "      <td>27</td>\n",
       "      <td>1613431336</td>\n",
       "    </tr>\n",
       "    <tr>\n",
       "      <th>568</th>\n",
       "      <td>Pop Smoke</td>\n",
       "      <td>22</td>\n",
       "      <td>1819047657</td>\n",
       "    </tr>\n",
       "    <tr>\n",
       "      <th>698</th>\n",
       "      <td>The Weeknd</td>\n",
       "      <td>21</td>\n",
       "      <td>2584034546</td>\n",
       "    </tr>\n",
       "    <tr>\n",
       "      <th>344</th>\n",
       "      <td>Justin Bieber</td>\n",
       "      <td>20</td>\n",
       "      <td>1777000385</td>\n",
       "    </tr>\n",
       "    <tr>\n",
       "      <th>177</th>\n",
       "      <td>DaBa</td>\n",
       "      <td>20</td>\n",
       "      <td>1406053145</td>\n",
       "    </tr>\n",
       "  </tbody>\n",
       "</table>\n",
       "</div>"
      ],
      "text/plain": [
       "            Artist  Nombre de single dans le top200     Streams\n",
       "678   Taylor Swift                               38  1187762192\n",
       "420   Lil Uzi Vert                               35   681245839\n",
       "69             BTS                               31  1093588891\n",
       "234         Eminem                               28   780198094\n",
       "340     Juice WRLD                               27  2646394526\n",
       "70        Bad Bunn                               27  1613431336\n",
       "568      Pop Smoke                               22  1819047657\n",
       "698     The Weeknd                               21  2584034546\n",
       "344  Justin Bieber                               20  1777000385\n",
       "177           DaBa                               20  1406053145"
      ]
     },
     "metadata": {},
     "output_type": "display_data"
    },
    {
     "name": "stdout",
     "output_type": "stream",
     "text": [
      "None\n"
     ]
    }
   ],
   "source": [
    "chansons_dis= chansonsdistinctes()\n",
    "print(chansons_dis)"
   ]
  },
  {
   "cell_type": "markdown",
   "id": "f18100c8",
   "metadata": {},
   "source": [
    "### Question 4 : Existe-t-il un lien entre la popularité d’une chanson et les autres critères présents dans les données ? (Pour cette question ne pas considérer les variables de la table spotify_top200_global.csv)"
   ]
  },
  {
   "cell_type": "markdown",
   "id": "1369444d",
   "metadata": {},
   "source": [
    "Étape 1 : Initialement, nous calculons la corrélation entre la colonne spécifiée (column1) et toutes les autres colonnes du DataFrame df. Cette corrélation est stockée dans le DataFrame df_correlation avec les noms des variables et les valeurs de corrélation correspondantes.\n",
    "\n",
    "Étape 2 : Ensuite, nous affichons visuellement la matrice de corrélation en utilisant la fonction visualize_correlation (qui n'est pas définie dans le code fourni). Pour chaque variable dans df_correlation, nous évaluons la force de corrélation avec column1 en utilisant des conditions spécifiques. Les commentaires sont imprimés en fonction de la force de corrélation, que ce soit forte, modérée, faible, positive ou négative."
   ]
  },
  {
   "cell_type": "code",
   "execution_count": 44,
   "id": "865ff9f9",
   "metadata": {
    "scrolled": false
   },
   "outputs": [
    {
     "data": {
      "text/html": [
       "<div>\n",
       "<style scoped>\n",
       "    .dataframe tbody tr th:only-of-type {\n",
       "        vertical-align: middle;\n",
       "    }\n",
       "\n",
       "    .dataframe tbody tr th {\n",
       "        vertical-align: top;\n",
       "    }\n",
       "\n",
       "    .dataframe thead th {\n",
       "        text-align: right;\n",
       "    }\n",
       "</style>\n",
       "<table border=\"1\" class=\"dataframe\">\n",
       "  <thead>\n",
       "    <tr style=\"text-align: right;\">\n",
       "      <th></th>\n",
       "      <th>id_x</th>\n",
       "      <th>Song_title</th>\n",
       "      <th>popularity_track</th>\n",
       "      <th>duration_ms</th>\n",
       "      <th>explicit</th>\n",
       "      <th>artists</th>\n",
       "      <th>id_artists</th>\n",
       "      <th>release_date</th>\n",
       "      <th>danceability</th>\n",
       "      <th>energy</th>\n",
       "      <th>...</th>\n",
       "      <th>instrumentalness</th>\n",
       "      <th>liveness</th>\n",
       "      <th>valence</th>\n",
       "      <th>tempo</th>\n",
       "      <th>time_signature</th>\n",
       "      <th>id_y</th>\n",
       "      <th>followers</th>\n",
       "      <th>genres</th>\n",
       "      <th>Artist_name</th>\n",
       "      <th>popularity_art</th>\n",
       "    </tr>\n",
       "  </thead>\n",
       "  <tbody>\n",
       "    <tr>\n",
       "      <th>0</th>\n",
       "      <td>35iwgR4jXetI318WEWsa1Q</td>\n",
       "      <td>Carve</td>\n",
       "      <td>6.0</td>\n",
       "      <td>126903.0</td>\n",
       "      <td>0.0</td>\n",
       "      <td>Uli</td>\n",
       "      <td>45tIt06XoI0Iio4LBEVpls</td>\n",
       "      <td>1922-02-22</td>\n",
       "      <td>0.645</td>\n",
       "      <td>0.44500</td>\n",
       "      <td>...</td>\n",
       "      <td>0.744</td>\n",
       "      <td>0.151</td>\n",
       "      <td>0.127</td>\n",
       "      <td>104.851</td>\n",
       "      <td>3.0</td>\n",
       "      <td>45tIt06XoI0Iio4LBEVpls</td>\n",
       "      <td>91.0</td>\n",
       "      <td></td>\n",
       "      <td>Uli</td>\n",
       "      <td>4.0</td>\n",
       "    </tr>\n",
       "    <tr>\n",
       "      <th>1</th>\n",
       "      <td>35iwgR4jXetI318WEWsa1Q</td>\n",
       "      <td>Carve</td>\n",
       "      <td>6.0</td>\n",
       "      <td>126903.0</td>\n",
       "      <td>0.0</td>\n",
       "      <td>Uli</td>\n",
       "      <td>45tIt06XoI0Iio4LBEVpls</td>\n",
       "      <td>1922-02-22</td>\n",
       "      <td>0.645</td>\n",
       "      <td>0.44500</td>\n",
       "      <td>...</td>\n",
       "      <td>0.744</td>\n",
       "      <td>0.151</td>\n",
       "      <td>0.127</td>\n",
       "      <td>104.851</td>\n",
       "      <td>3.0</td>\n",
       "      <td>2rgWCHFdRPECZBp9s9gU93</td>\n",
       "      <td>28721.0</td>\n",
       "      <td></td>\n",
       "      <td>Uli</td>\n",
       "      <td>18.0</td>\n",
       "    </tr>\n",
       "    <tr>\n",
       "      <th>2</th>\n",
       "      <td>0PH9AACae1f957JAavhOl2</td>\n",
       "      <td>Lazy Boi</td>\n",
       "      <td>0.0</td>\n",
       "      <td>157333.0</td>\n",
       "      <td>0.0</td>\n",
       "      <td>Uli</td>\n",
       "      <td>45tIt06XoI0Iio4LBEVpls</td>\n",
       "      <td>1922-02-22</td>\n",
       "      <td>0.298</td>\n",
       "      <td>0.46000</td>\n",
       "      <td>...</td>\n",
       "      <td>0.856</td>\n",
       "      <td>0.436</td>\n",
       "      <td>0.402</td>\n",
       "      <td>87.921</td>\n",
       "      <td>4.0</td>\n",
       "      <td>45tIt06XoI0Iio4LBEVpls</td>\n",
       "      <td>91.0</td>\n",
       "      <td></td>\n",
       "      <td>Uli</td>\n",
       "      <td>4.0</td>\n",
       "    </tr>\n",
       "    <tr>\n",
       "      <th>3</th>\n",
       "      <td>0PH9AACae1f957JAavhOl2</td>\n",
       "      <td>Lazy Boi</td>\n",
       "      <td>0.0</td>\n",
       "      <td>157333.0</td>\n",
       "      <td>0.0</td>\n",
       "      <td>Uli</td>\n",
       "      <td>45tIt06XoI0Iio4LBEVpls</td>\n",
       "      <td>1922-02-22</td>\n",
       "      <td>0.298</td>\n",
       "      <td>0.46000</td>\n",
       "      <td>...</td>\n",
       "      <td>0.856</td>\n",
       "      <td>0.436</td>\n",
       "      <td>0.402</td>\n",
       "      <td>87.921</td>\n",
       "      <td>4.0</td>\n",
       "      <td>2rgWCHFdRPECZBp9s9gU93</td>\n",
       "      <td>28721.0</td>\n",
       "      <td></td>\n",
       "      <td>Uli</td>\n",
       "      <td>18.0</td>\n",
       "    </tr>\n",
       "    <tr>\n",
       "      <th>4</th>\n",
       "      <td>2SiNuAZ6jIU9xhClRKXcST</td>\n",
       "      <td>Sketch</td>\n",
       "      <td>0.0</td>\n",
       "      <td>87040.0</td>\n",
       "      <td>0.0</td>\n",
       "      <td>Uli</td>\n",
       "      <td>45tIt06XoI0Iio4LBEVpls</td>\n",
       "      <td>1922-02-22</td>\n",
       "      <td>0.634</td>\n",
       "      <td>0.00399</td>\n",
       "      <td>...</td>\n",
       "      <td>0.919</td>\n",
       "      <td>0.105</td>\n",
       "      <td>0.396</td>\n",
       "      <td>79.895</td>\n",
       "      <td>4.0</td>\n",
       "      <td>45tIt06XoI0Iio4LBEVpls</td>\n",
       "      <td>91.0</td>\n",
       "      <td></td>\n",
       "      <td>Uli</td>\n",
       "      <td>4.0</td>\n",
       "    </tr>\n",
       "    <tr>\n",
       "      <th>...</th>\n",
       "      <td>...</td>\n",
       "      <td>...</td>\n",
       "      <td>...</td>\n",
       "      <td>...</td>\n",
       "      <td>...</td>\n",
       "      <td>...</td>\n",
       "      <td>...</td>\n",
       "      <td>...</td>\n",
       "      <td>...</td>\n",
       "      <td>...</td>\n",
       "      <td>...</td>\n",
       "      <td>...</td>\n",
       "      <td>...</td>\n",
       "      <td>...</td>\n",
       "      <td>...</td>\n",
       "      <td>...</td>\n",
       "      <td>...</td>\n",
       "      <td>...</td>\n",
       "      <td>...</td>\n",
       "      <td>...</td>\n",
       "      <td>...</td>\n",
       "    </tr>\n",
       "    <tr>\n",
       "      <th>1751523</th>\n",
       "      <td>NaN</td>\n",
       "      <td>NaN</td>\n",
       "      <td>NaN</td>\n",
       "      <td>NaN</td>\n",
       "      <td>NaN</td>\n",
       "      <td>NaN</td>\n",
       "      <td>NaN</td>\n",
       "      <td>NaN</td>\n",
       "      <td>NaN</td>\n",
       "      <td>NaN</td>\n",
       "      <td>...</td>\n",
       "      <td>NaN</td>\n",
       "      <td>NaN</td>\n",
       "      <td>NaN</td>\n",
       "      <td>NaN</td>\n",
       "      <td>NaN</td>\n",
       "      <td>3cOzi726Iav1toV2LRVEjp</td>\n",
       "      <td>4831.0</td>\n",
       "      <td>black comedy</td>\n",
       "      <td>Ali Siddiq</td>\n",
       "      <td>34.0</td>\n",
       "    </tr>\n",
       "    <tr>\n",
       "      <th>1751524</th>\n",
       "      <td>NaN</td>\n",
       "      <td>NaN</td>\n",
       "      <td>NaN</td>\n",
       "      <td>NaN</td>\n",
       "      <td>NaN</td>\n",
       "      <td>NaN</td>\n",
       "      <td>NaN</td>\n",
       "      <td>NaN</td>\n",
       "      <td>NaN</td>\n",
       "      <td>NaN</td>\n",
       "      <td>...</td>\n",
       "      <td>NaN</td>\n",
       "      <td>NaN</td>\n",
       "      <td>NaN</td>\n",
       "      <td>NaN</td>\n",
       "      <td>NaN</td>\n",
       "      <td>6LogY6VMM3jgAE6fPzXeMl</td>\n",
       "      <td>46.0</td>\n",
       "      <td></td>\n",
       "      <td>Rodney Laney</td>\n",
       "      <td>2.0</td>\n",
       "    </tr>\n",
       "    <tr>\n",
       "      <th>1751525</th>\n",
       "      <td>NaN</td>\n",
       "      <td>NaN</td>\n",
       "      <td>NaN</td>\n",
       "      <td>NaN</td>\n",
       "      <td>NaN</td>\n",
       "      <td>NaN</td>\n",
       "      <td>NaN</td>\n",
       "      <td>NaN</td>\n",
       "      <td>NaN</td>\n",
       "      <td>NaN</td>\n",
       "      <td>...</td>\n",
       "      <td>NaN</td>\n",
       "      <td>NaN</td>\n",
       "      <td>NaN</td>\n",
       "      <td>NaN</td>\n",
       "      <td>NaN</td>\n",
       "      <td>19boQkDEIay9GaVAWkUhTa</td>\n",
       "      <td>257.0</td>\n",
       "      <td></td>\n",
       "      <td>Blake Wexler</td>\n",
       "      <td>10.0</td>\n",
       "    </tr>\n",
       "    <tr>\n",
       "      <th>1751526</th>\n",
       "      <td>NaN</td>\n",
       "      <td>NaN</td>\n",
       "      <td>NaN</td>\n",
       "      <td>NaN</td>\n",
       "      <td>NaN</td>\n",
       "      <td>NaN</td>\n",
       "      <td>NaN</td>\n",
       "      <td>NaN</td>\n",
       "      <td>NaN</td>\n",
       "      <td>NaN</td>\n",
       "      <td>...</td>\n",
       "      <td>NaN</td>\n",
       "      <td>NaN</td>\n",
       "      <td>NaN</td>\n",
       "      <td>NaN</td>\n",
       "      <td>NaN</td>\n",
       "      <td>5nvjpU3Y7L6Hpe54QuvDjy</td>\n",
       "      <td>2357.0</td>\n",
       "      <td>black comedy</td>\n",
       "      <td>Donnell Rawlings</td>\n",
       "      <td>15.0</td>\n",
       "    </tr>\n",
       "    <tr>\n",
       "      <th>1751527</th>\n",
       "      <td>NaN</td>\n",
       "      <td>NaN</td>\n",
       "      <td>NaN</td>\n",
       "      <td>NaN</td>\n",
       "      <td>NaN</td>\n",
       "      <td>NaN</td>\n",
       "      <td>NaN</td>\n",
       "      <td>NaN</td>\n",
       "      <td>NaN</td>\n",
       "      <td>NaN</td>\n",
       "      <td>...</td>\n",
       "      <td>NaN</td>\n",
       "      <td>NaN</td>\n",
       "      <td>NaN</td>\n",
       "      <td>NaN</td>\n",
       "      <td>NaN</td>\n",
       "      <td>2bP2cNhNBdKXHC6AnqgyVp</td>\n",
       "      <td>40.0</td>\n",
       "      <td>new comedy</td>\n",
       "      <td>Gabe Kea</td>\n",
       "      <td>8.0</td>\n",
       "    </tr>\n",
       "  </tbody>\n",
       "</table>\n",
       "<p>1751528 rows × 25 columns</p>\n",
       "</div>"
      ],
      "text/plain": [
       "                           id_x Song_title  popularity_track  duration_ms  \\\n",
       "0        35iwgR4jXetI318WEWsa1Q      Carve               6.0     126903.0   \n",
       "1        35iwgR4jXetI318WEWsa1Q      Carve               6.0     126903.0   \n",
       "2        0PH9AACae1f957JAavhOl2   Lazy Boi               0.0     157333.0   \n",
       "3        0PH9AACae1f957JAavhOl2   Lazy Boi               0.0     157333.0   \n",
       "4        2SiNuAZ6jIU9xhClRKXcST     Sketch               0.0      87040.0   \n",
       "...                         ...        ...               ...          ...   \n",
       "1751523                     NaN        NaN               NaN          NaN   \n",
       "1751524                     NaN        NaN               NaN          NaN   \n",
       "1751525                     NaN        NaN               NaN          NaN   \n",
       "1751526                     NaN        NaN               NaN          NaN   \n",
       "1751527                     NaN        NaN               NaN          NaN   \n",
       "\n",
       "         explicit artists              id_artists release_date  danceability  \\\n",
       "0             0.0     Uli  45tIt06XoI0Iio4LBEVpls   1922-02-22         0.645   \n",
       "1             0.0     Uli  45tIt06XoI0Iio4LBEVpls   1922-02-22         0.645   \n",
       "2             0.0     Uli  45tIt06XoI0Iio4LBEVpls   1922-02-22         0.298   \n",
       "3             0.0     Uli  45tIt06XoI0Iio4LBEVpls   1922-02-22         0.298   \n",
       "4             0.0     Uli  45tIt06XoI0Iio4LBEVpls   1922-02-22         0.634   \n",
       "...           ...     ...                     ...          ...           ...   \n",
       "1751523       NaN     NaN                     NaN          NaN           NaN   \n",
       "1751524       NaN     NaN                     NaN          NaN           NaN   \n",
       "1751525       NaN     NaN                     NaN          NaN           NaN   \n",
       "1751526       NaN     NaN                     NaN          NaN           NaN   \n",
       "1751527       NaN     NaN                     NaN          NaN           NaN   \n",
       "\n",
       "          energy  ...  instrumentalness  liveness  valence    tempo  \\\n",
       "0        0.44500  ...             0.744     0.151    0.127  104.851   \n",
       "1        0.44500  ...             0.744     0.151    0.127  104.851   \n",
       "2        0.46000  ...             0.856     0.436    0.402   87.921   \n",
       "3        0.46000  ...             0.856     0.436    0.402   87.921   \n",
       "4        0.00399  ...             0.919     0.105    0.396   79.895   \n",
       "...          ...  ...               ...       ...      ...      ...   \n",
       "1751523      NaN  ...               NaN       NaN      NaN      NaN   \n",
       "1751524      NaN  ...               NaN       NaN      NaN      NaN   \n",
       "1751525      NaN  ...               NaN       NaN      NaN      NaN   \n",
       "1751526      NaN  ...               NaN       NaN      NaN      NaN   \n",
       "1751527      NaN  ...               NaN       NaN      NaN      NaN   \n",
       "\n",
       "         time_signature                    id_y  followers        genres  \\\n",
       "0                   3.0  45tIt06XoI0Iio4LBEVpls       91.0                 \n",
       "1                   3.0  2rgWCHFdRPECZBp9s9gU93    28721.0                 \n",
       "2                   4.0  45tIt06XoI0Iio4LBEVpls       91.0                 \n",
       "3                   4.0  2rgWCHFdRPECZBp9s9gU93    28721.0                 \n",
       "4                   4.0  45tIt06XoI0Iio4LBEVpls       91.0                 \n",
       "...                 ...                     ...        ...           ...   \n",
       "1751523             NaN  3cOzi726Iav1toV2LRVEjp     4831.0  black comedy   \n",
       "1751524             NaN  6LogY6VMM3jgAE6fPzXeMl       46.0                 \n",
       "1751525             NaN  19boQkDEIay9GaVAWkUhTa      257.0                 \n",
       "1751526             NaN  5nvjpU3Y7L6Hpe54QuvDjy     2357.0  black comedy   \n",
       "1751527             NaN  2bP2cNhNBdKXHC6AnqgyVp       40.0    new comedy   \n",
       "\n",
       "              Artist_name  popularity_art  \n",
       "0                     Uli             4.0  \n",
       "1                     Uli            18.0  \n",
       "2                     Uli             4.0  \n",
       "3                     Uli            18.0  \n",
       "4                     Uli             4.0  \n",
       "...                   ...             ...  \n",
       "1751523        Ali Siddiq            34.0  \n",
       "1751524      Rodney Laney             2.0  \n",
       "1751525      Blake Wexler            10.0  \n",
       "1751526  Donnell Rawlings            15.0  \n",
       "1751527          Gabe Kea             8.0  \n",
       "\n",
       "[1751528 rows x 25 columns]"
      ]
     },
     "execution_count": 44,
     "metadata": {},
     "output_type": "execute_result"
    }
   ],
   "source": [
    "#On fusionne les df_art et df_track avec pour clé les noms des artistes\n",
    "fusion = pd.merge(df_track, df_art, left_on='artists', right_on='name', how='outer')\n",
    "\n",
    "#On renomme les 'popularity' et les 'name' car il y en a deux, une pour la df_track et une pour la df_art\n",
    "fusion = fusion.rename(columns={'name_x':'Song_title', 'name_y':'Artist_name', 'popularity_x':'popularity_track', 'popularity_y':'popularity_art'})\n",
    "\n",
    "fusion"
   ]
  },
  {
   "cell_type": "code",
   "execution_count": 45,
   "id": "b1b7ec94",
   "metadata": {},
   "outputs": [],
   "source": [
    "col1 = \"popularity_track\"\n",
    "col2 = fusion.columns.difference([col1])"
   ]
  },
  {
   "cell_type": "code",
   "execution_count": 51,
   "id": "d14b3780",
   "metadata": {
    "scrolled": false
   },
   "outputs": [
    {
     "data": {
      "image/png": "[encoded data removed]",
      "text/plain": [
       "<Figure size 1152x720 with 2 Axes>"
      ]
     },
     "metadata": {
      "needs_background": "light"
     },
     "output_type": "display_data"
    },
    {
     "name": "stdout",
     "output_type": "stream",
     "text": [
      "None\n",
      "Pour la variable popularity_track, la corrélation avec popularity_track est de 1.0. Il existe une forte corrélation positive avec popularity_track.\n",
      "\n",
      "Pour la variable acousticness, la corrélation avec popularity_track est de -0.3606117048355116. Il existe une corrélation négative modérée avec popularity_track.\n",
      "\n",
      "Pour la variable danceability, la corrélation avec popularity_track est de 0.18644321930913862. Il y a peu de corrélation avec popularity_track.\n",
      "\n",
      "Pour la variable duration_ms, la corrélation avec popularity_track est de 0.028703791501088618. Il y a peu de corrélation avec popularity_track.\n",
      "\n",
      "Pour la variable energy, la corrélation avec popularity_track est de 0.29395507965638584. Il y a peu de corrélation avec popularity_track.\n",
      "\n",
      "Pour la variable explicit, la corrélation avec popularity_track est de 0.2132271048296305. Il y a peu de corrélation avec popularity_track.\n",
      "\n",
      "Pour la variable followers, la corrélation avec popularity_track est de 0.21599668959765578. Il y a peu de corrélation avec popularity_track.\n",
      "\n",
      "Pour la variable instrumentalness, la corrélation avec popularity_track est de -0.22925298086954785. Il y a peu de corrélation avec popularity_track.\n",
      "\n",
      "Pour la variable key, la corrélation avec popularity_track est de 0.014277667550248068. Il y a peu de corrélation avec popularity_track.\n",
      "\n",
      "Pour la variable liveness, la corrélation avec popularity_track est de -0.050806442144224556. Il y a peu de corrélation avec popularity_track.\n",
      "\n",
      "Pour la variable loudness, la corrélation avec popularity_track est de 0.32370305939373256. Il existe une corrélation positive modérée avec popularity_track.\n",
      "\n",
      "Pour la variable mode, la corrélation avec popularity_track est de -0.03472354738599586. Il y a peu de corrélation avec popularity_track.\n",
      "\n",
      "Pour la variable popularity_art, la corrélation avec popularity_track est de 0.44830237850759874. Il existe une corrélation positive modérée avec popularity_track.\n",
      "\n",
      "Pour la variable speechiness, la corrélation avec popularity_track est de -0.04811752110511231. Il y a peu de corrélation avec popularity_track.\n",
      "\n",
      "Pour la variable tempo, la corrélation avec popularity_track est de 0.06796591718101617. Il y a peu de corrélation avec popularity_track.\n",
      "\n",
      "Pour la variable time_signature, la corrélation avec popularity_track est de 0.08686690306227414. Il y a peu de corrélation avec popularity_track.\n",
      "\n",
      "Pour la variable valence, la corrélation avec popularity_track est de 0.0012713628433157283. Il y a peu de corrélation avec popularity_track.\n",
      "\n"
     ]
    }
   ],
   "source": [
    "correlation1 = correlation_pop(fusion,\"popularity_track\", col2)"
   ]
  }
 ],
 "metadata": {
  "kernelspec": {
   "display_name": "Python 3 (ipykernel)",
   "language": "python",
   "name": "python3"
  },
  "language_info": {
   "codemirror_mode": {
    "name": "ipython",
    "version": 3
   },
   "file_extension": ".py",
   "mimetype": "text/x-python",
   "name": "python",
   "nbconvert_exporter": "python",
   "pygments_lexer": "ipython3",
   "version": "3.9.7"
  }
 },
 "nbformat": 4,
 "nbformat_minor": 5
}
